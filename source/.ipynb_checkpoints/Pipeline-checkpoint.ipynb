{
 "cells": [
  {
   "cell_type": "markdown",
   "id": "3c9de8c1",
   "metadata": {},
   "source": [
    "# Prediction pipeline\n",
    "    \n",
    "\n",
    "### The red box shows the current position in the pipeline\n",
    "\n",
    "![PipelineStep1](images/Pipeline_step1.png \"View of the current state of the Pipeline\")\n",
    "\n",
    "### Inside the red box, the following chart models the workflow\n",
    "\n",
    "![PreprocessingPipeline](images/PreprocessingPipeline.png \"View of the Preprocessing Pipeline\")"
   ]
  },
  {
   "cell_type": "code",
   "execution_count": 1,
   "id": "a1df5064",
   "metadata": {},
   "outputs": [
    {
     "name": "stderr",
     "output_type": "stream",
     "text": [
      "C:\\Users\\richard\\Documents\\GitHub\\generic-hmm\\source\\preprocessing.py:106: SettingWithCopyWarning: \n",
      "A value is trying to be set on a copy of a slice from a DataFrame.\n",
      "Try using .loc[row_indexer,col_indexer] = value instead\n",
      "\n",
      "See the caveats in the documentation: https://pandas.pydata.org/pandas-docs/stable/user_guide/indexing.html#returning-a-view-versus-a-copy\n",
      "  df[dateid] = df[dateid].map(lambda x: pd.Timestamp(x))\n"
     ]
    }
   ],
   "source": [
    "from preprocessing import Preprocessor\n",
    "\n",
    "path_to_config = \"../data/train.ini\"\n",
    "path_to_data = \"../data/train.csv\"\n",
    "path_to_observation = \"../data/obs.csv\"\n",
    "\n",
    "prep = Preprocessor()\n",
    "prep.process(path_to_config=path_to_config, path_to_data=path_to_data, csv_delimiter=',')\n",
    "\n"
   ]
  },
  {
   "cell_type": "markdown",
   "id": "b8d21cbd",
   "metadata": {},
   "source": [
    "### The red box shows the current position in the pipeline\n",
    "\n",
    "![PipelineStep2](images/Pipeline_step2.png \"View of the current state of the Pipeline\")\n",
    "\n",
    "### Inside the red box, the following chart models the workflow\n",
    "\n",
    "![FeatureExtractionPipeline](images/FeatureExtractionPipeline.png \"View of the FeatureExtraction Pipeline\")"
   ]
  },
  {
   "cell_type": "code",
   "execution_count": 2,
   "id": "315ca320",
   "metadata": {},
   "outputs": [
    {
     "name": "stdout",
     "output_type": "stream",
     "text": [
      "Extracting counts. This may take some time.\n"
     ]
    },
    {
     "name": "stderr",
     "output_type": "stream",
     "text": [
      "100%|███████████████████████████████████████████████████████████████████████████████████| 8/8 [00:00<00:00, 216.21it/s]\n"
     ]
    },
    {
     "name": "stdout",
     "output_type": "stream",
     "text": [
      "Calculating initial state probabilities.\n"
     ]
    },
    {
     "name": "stderr",
     "output_type": "stream",
     "text": [
      "100%|████████████████████████████████████████████████████████████████████████████████████████████| 6/6 [00:00<?, ?it/s]\n"
     ]
    },
    {
     "name": "stdout",
     "output_type": "stream",
     "text": [
      "Calculating state transition probabilities.\n"
     ]
    },
    {
     "name": "stderr",
     "output_type": "stream",
     "text": [
      "100%|████████████████████████████████████████████████████████████████████████████████████████████| 6/6 [00:00<?, ?it/s]\n"
     ]
    },
    {
     "name": "stdout",
     "output_type": "stream",
     "text": [
      "Calculating observation probabilities.\n"
     ]
    },
    {
     "name": "stderr",
     "output_type": "stream",
     "text": [
      "100%|████████████████████████████████████████████████████████████████████████████████████████████| 6/6 [00:00<?, ?it/s]"
     ]
    },
    {
     "name": "stdout",
     "output_type": "stream",
     "text": [
      "Extraction of probabilities successful. Elapsed time: 0.0 hours, 0.0 minutes and 0.046994686126708984 seconds\n"
     ]
    },
    {
     "name": "stderr",
     "output_type": "stream",
     "text": [
      "\n"
     ]
    }
   ],
   "source": [
    "from pvault import ProbabilityVault\n",
    "\n",
    "pv = ProbabilityVault(prep)\n",
    "pv.extract_probabilities()\n"
   ]
  },
  {
   "cell_type": "markdown",
   "id": "b9024fe6",
   "metadata": {},
   "source": [
    "### The red box shows the current position in the pipeline\n",
    "\n",
    "![PipelineStep3](images/Pipeline_step3.png \"View of the current state of the Pipeline\")\n",
    "\n",
    "### Inside the red box, the following chart models the workflow\n",
    "\n",
    "![ModelConstructionPipeline](images/ModelConstructionPipeline.png \"View of the ModelConstructionPipeline\")"
   ]
  },
  {
   "cell_type": "code",
   "execution_count": 3,
   "id": "08d16c20",
   "metadata": {},
   "outputs": [
    {
     "name": "stderr",
     "output_type": "stream",
     "text": [
      "C:\\Users\\richard\\Documents\\GitHub\\generic-hmm\\source\\model.py:126: UserWarning: Normalizing forward probabilities. This step should be discussed further.\n",
      "  warnings.warn('Normalizing forward probabilities. This step should be discussed further.')\n",
      "C:\\Users\\richard\\Documents\\GitHub\\generic-hmm\\source\\model.py:156: UserWarning: Normalizing forward probabilities. This step should be discussed further.\n",
      "  warnings.warn('Normalizing forward probabilities. This step should be discussed further.')\n",
      "C:\\Users\\richard\\Documents\\GitHub\\generic-hmm\\source\\model.py:70: UserWarning: EXPERIMENTAL CODE: layer weights are not applied, since the code for layer-weights is still missing.         The distr of weights over the layers is an equal distribution for now.\n",
      "  warnings.warn('EXPERIMENTAL CODE: layer weights are not applied, since the code for layer-weights is still missing. \\\n"
     ]
    },
    {
     "data": {
      "text/plain": [
       "array([[0.        , 0.037631  , 0.0850987 , 0.15761714, 0.22101035,\n",
       "        0.29637612, 0.39256413, 0.46450342, 0.52905511, 0.57647874,\n",
       "        0.58125254, 0.87669061],\n",
       "       [0.76207676, 0.72849782, 0.65219025, 0.61327241, 0.56363023,\n",
       "        0.47668227, 0.04648112, 0.08083479, 0.08785469, 0.02321949,\n",
       "        0.05254668, 0.07812782],\n",
       "       [0.23792324, 0.23387119, 0.26271105, 0.22911044, 0.21535942,\n",
       "        0.22694162, 0.56095475, 0.4546618 , 0.3830902 , 0.40030178,\n",
       "        0.36620078, 0.04518157]])"
      ]
     },
     "execution_count": 3,
     "metadata": {},
     "output_type": "execute_result"
    }
   ],
   "source": [
    "import pandas as pd\n",
    "from model import DynamicNaiveBayesClassifier\n",
    "\n",
    "dnbc = DynamicNaiveBayesClassifier(pv)\n",
    "obs_df = pd.read_csv(path_to_observation, delimiter=',')\n",
    "\n",
    "post_distr = dnbc.posterior_distribution(hidden_marker='diagnosis', layers=['motoric', 'visit_specific'], observation=obs_df)\n",
    "\n",
    "post_distr"
   ]
  },
  {
   "cell_type": "code",
   "execution_count": 4,
   "id": "e9c6317a",
   "metadata": {},
   "outputs": [
    {
     "data": {
      "image/png": "[encoded data removed]",
      "text/plain": [
       "<Figure size 432x288 with 1 Axes>"
      ]
     },
     "metadata": {
      "needs_background": "light"
     },
     "output_type": "display_data"
    }
   ],
   "source": [
    "import matplotlib.pyplot as plt\n",
    "\n",
    "N = post_distr.shape[1]\n",
    "M = post_distr.shape[0]\n",
    "series = pd.Series(range(M))\n",
    "series = prep.decode_series(marker='diagnosis', series=series)\n",
    "\n",
    "plt.stackplot(range(N), post_distr, labels=series)\n",
    "plt.legend()\n",
    "plt.show()"
   ]
  },
  {
   "cell_type": "code",
   "execution_count": null,
   "id": "1e219428",
   "metadata": {},
   "outputs": [],
   "source": []
  }
 ],
 "metadata": {
  "kernelspec": {
   "display_name": "Python 3 (ipykernel)",
   "language": "python",
   "name": "python3"
  },
  "language_info": {
   "codemirror_mode": {
    "name": "ipython",
    "version": 3
   },
   "file_extension": ".py",
   "mimetype": "text/x-python",
   "name": "python",
   "nbconvert_exporter": "python",
   "pygments_lexer": "ipython3",
   "version": "3.8.13"
  }
 },
 "nbformat": 4,
 "nbformat_minor": 5
}
