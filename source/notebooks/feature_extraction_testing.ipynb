{
 "cells": [
  {
   "cell_type": "markdown",
   "id": "8567ef5c",
   "metadata": {},
   "source": [
    "# Feature Extraction \n",
    "    \n",
    "In the following notebook, our aim will be to extract crucial probabilities, in order to construct a HMM Model later on!\n",
    "\n",
    "\n",
    "### The red box shows the current position in the pipeline\n",
    "\n",
    "![PipelineStep2](images/Pipeline_step2.png \"View of the current state of the Pipeline\")\n",
    "\n",
    "### Inside the red box, the following chart models the workflow\n",
    "\n",
    "![FeatureExtractionPipeline](images/FeatureExtractionPipeline.png \"View of the Preprocessing Pipeline\")"
   ]
  },
  {
   "cell_type": "markdown",
   "id": "78786954",
   "metadata": {},
   "source": [
    "The first step will be to group the experiments. \n",
    "The next step should be iterating (may be time intensive, but i currently see no other way) over the pandas DataFrame,\n",
    "in order to count occurences, which will later help us determining the actual probabilities.\n",
    "\n",
    "The current idea is to store the probabilities inside a **HUGE** dictionary, inside an object, which has an interface for easy access.\n",
    "\n",
    "Please see the **pvault.py** file, in which all the actual extraction takes place."
   ]
  },
  {
   "cell_type": "code",
   "execution_count": 1,
   "id": "9d15819b",
   "metadata": {},
   "outputs": [],
   "source": [
    "import pandas as pd\n",
    "import pickle\n",
    "import configparser\n",
    "\n",
    "path_to_config = './config.ini'\n",
    "\n",
    "df = pd.read_pickle('preprocessed.pkl')\n",
    "label_encoders = None\n",
    "\n",
    "# read in the config file\n",
    "cparser = configparser.ConfigParser()\n",
    "cparser.read(path_to_config)\n",
    "\n",
    "\n",
    "with open('label_encoders.pkl', 'rb') as file:\n",
    "    label_encoders = pickle.load(file)"
   ]
  },
  {
   "cell_type": "code",
   "execution_count": 2,
   "id": "68939148",
   "metadata": {},
   "outputs": [
    {
     "data": {
      "text/html": [
       "<div>\n",
       "<style scoped>\n",
       "    .dataframe tbody tr th:only-of-type {\n",
       "        vertical-align: middle;\n",
       "    }\n",
       "\n",
       "    .dataframe tbody tr th {\n",
       "        vertical-align: top;\n",
       "    }\n",
       "\n",
       "    .dataframe thead th {\n",
       "        text-align: right;\n",
       "    }\n",
       "</style>\n",
       "<table border=\"1\" class=\"dataframe\">\n",
       "  <thead>\n",
       "    <tr style=\"text-align: right;\">\n",
       "      <th></th>\n",
       "      <th>usubjid</th>\n",
       "      <th>visdat</th>\n",
       "      <th>siteid</th>\n",
       "      <th>visnam</th>\n",
       "      <th>subjstat</th>\n",
       "    </tr>\n",
       "  </thead>\n",
       "  <tbody>\n",
       "    <tr>\n",
       "      <th>0</th>\n",
       "      <td>0</td>\n",
       "      <td>0</td>\n",
       "      <td>0</td>\n",
       "      <td>0</td>\n",
       "      <td>2</td>\n",
       "    </tr>\n",
       "    <tr>\n",
       "      <th>1</th>\n",
       "      <td>0</td>\n",
       "      <td>1</td>\n",
       "      <td>0</td>\n",
       "      <td>0</td>\n",
       "      <td>2</td>\n",
       "    </tr>\n",
       "    <tr>\n",
       "      <th>2</th>\n",
       "      <td>0</td>\n",
       "      <td>2</td>\n",
       "      <td>0</td>\n",
       "      <td>0</td>\n",
       "      <td>2</td>\n",
       "    </tr>\n",
       "    <tr>\n",
       "      <th>3</th>\n",
       "      <td>0</td>\n",
       "      <td>3</td>\n",
       "      <td>0</td>\n",
       "      <td>0</td>\n",
       "      <td>2</td>\n",
       "    </tr>\n",
       "    <tr>\n",
       "      <th>4</th>\n",
       "      <td>0</td>\n",
       "      <td>4</td>\n",
       "      <td>0</td>\n",
       "      <td>0</td>\n",
       "      <td>2</td>\n",
       "    </tr>\n",
       "    <tr>\n",
       "      <th>...</th>\n",
       "      <td>...</td>\n",
       "      <td>...</td>\n",
       "      <td>...</td>\n",
       "      <td>...</td>\n",
       "      <td>...</td>\n",
       "    </tr>\n",
       "    <tr>\n",
       "      <th>145</th>\n",
       "      <td>3</td>\n",
       "      <td>120</td>\n",
       "      <td>0</td>\n",
       "      <td>0</td>\n",
       "      <td>2</td>\n",
       "    </tr>\n",
       "    <tr>\n",
       "      <th>146</th>\n",
       "      <td>3</td>\n",
       "      <td>121</td>\n",
       "      <td>0</td>\n",
       "      <td>0</td>\n",
       "      <td>1</td>\n",
       "    </tr>\n",
       "    <tr>\n",
       "      <th>147</th>\n",
       "      <td>3</td>\n",
       "      <td>122</td>\n",
       "      <td>0</td>\n",
       "      <td>0</td>\n",
       "      <td>1</td>\n",
       "    </tr>\n",
       "    <tr>\n",
       "      <th>148</th>\n",
       "      <td>3</td>\n",
       "      <td>123</td>\n",
       "      <td>0</td>\n",
       "      <td>0</td>\n",
       "      <td>1</td>\n",
       "    </tr>\n",
       "    <tr>\n",
       "      <th>149</th>\n",
       "      <td>3</td>\n",
       "      <td>124</td>\n",
       "      <td>0</td>\n",
       "      <td>0</td>\n",
       "      <td>2</td>\n",
       "    </tr>\n",
       "  </tbody>\n",
       "</table>\n",
       "<p>150 rows × 5 columns</p>\n",
       "</div>"
      ],
      "text/plain": [
       "     usubjid  visdat  siteid  visnam  subjstat\n",
       "0          0       0       0       0         2\n",
       "1          0       1       0       0         2\n",
       "2          0       2       0       0         2\n",
       "3          0       3       0       0         2\n",
       "4          0       4       0       0         2\n",
       "..       ...     ...     ...     ...       ...\n",
       "145        3     120       0       0         2\n",
       "146        3     121       0       0         1\n",
       "147        3     122       0       0         1\n",
       "148        3     123       0       0         1\n",
       "149        3     124       0       0         2\n",
       "\n",
       "[150 rows x 5 columns]"
      ]
     },
     "execution_count": 2,
     "metadata": {},
     "output_type": "execute_result"
    }
   ],
   "source": [
    "df"
   ]
  },
  {
   "cell_type": "code",
   "execution_count": 3,
   "id": "99b054cf",
   "metadata": {},
   "outputs": [],
   "source": [
    "from pvault import ProbabilityVault\n",
    "\n",
    "pv = ProbabilityVault(df, cparser, label_encoders)"
   ]
  },
  {
   "cell_type": "code",
   "execution_count": 4,
   "id": "e01e6c6c",
   "metadata": {},
   "outputs": [
    {
     "name": "stdout",
     "output_type": "stream",
     "text": [
      "Extracting counts. This may take some time.\n"
     ]
    },
    {
     "name": "stderr",
     "output_type": "stream",
     "text": [
      "100%|███████████████████████████████████████████████████████████████████████████████████| 4/4 [00:00<00:00, 142.86it/s]\n"
     ]
    },
    {
     "name": "stdout",
     "output_type": "stream",
     "text": [
      "Calculating initial state probabilities.\n"
     ]
    },
    {
     "name": "stderr",
     "output_type": "stream",
     "text": [
      "100%|████████████████████████████████████████████████████████████████████████████████████████████| 5/5 [00:00<?, ?it/s]\n"
     ]
    },
    {
     "name": "stdout",
     "output_type": "stream",
     "text": [
      "Calculating state transition probabilities.\n"
     ]
    },
    {
     "name": "stderr",
     "output_type": "stream",
     "text": [
      "100%|████████████████████████████████████████████████████████████████████████████████████████████| 5/5 [00:00<?, ?it/s]\n"
     ]
    },
    {
     "name": "stdout",
     "output_type": "stream",
     "text": [
      "Calculating observation probabilities.\n"
     ]
    },
    {
     "name": "stderr",
     "output_type": "stream",
     "text": [
      "100%|████████████████████████████████████████████████████████████████████████████████████████████| 5/5 [00:00<?, ?it/s]"
     ]
    },
    {
     "name": "stdout",
     "output_type": "stream",
     "text": [
      "Extraction of probabilities successful. Elapsed time: 0.0 hours, 0.0 minutes and 0.04400205612182617 seconds\n"
     ]
    },
    {
     "name": "stderr",
     "output_type": "stream",
     "text": [
      "\n"
     ]
    }
   ],
   "source": [
    "pv.extract_probabilities()"
   ]
  },
  {
   "cell_type": "code",
   "execution_count": 5,
   "id": "83226609",
   "metadata": {},
   "outputs": [],
   "source": [
    "pv.to_pickle('pv_testing1.pkl')"
   ]
  },
  {
   "cell_type": "code",
   "execution_count": 6,
   "id": "72d42641",
   "metadata": {},
   "outputs": [],
   "source": [
    "pv2 = ProbabilityVault.from_pickle('pv_testing1.pkl')"
   ]
  },
  {
   "cell_type": "code",
   "execution_count": 7,
   "id": "2b13e500",
   "metadata": {},
   "outputs": [
    {
     "data": {
      "text/plain": [
       "<pvault.ProbabilityVault at 0x20f2b088550>"
      ]
     },
     "execution_count": 7,
     "metadata": {},
     "output_type": "execute_result"
    }
   ],
   "source": [
    "pv2"
   ]
  },
  {
   "cell_type": "code",
   "execution_count": 8,
   "id": "d7b8f026",
   "metadata": {},
   "outputs": [
    {
     "data": {
      "text/plain": [
       "{'usubjid': {0: 0.25, 1: 0.25, 2: 0.25, 3: 0.25},\n",
       " 'visdat': {0: 0.5, 21: 0.25, 86: 0.25},\n",
       " 'siteid': {0: 1.0},\n",
       " 'visnam': {0: 1.0},\n",
       " 'subjstat': {2: 0.75, 0: 0.25}}"
      ]
     },
     "execution_count": 8,
     "metadata": {},
     "output_type": "execute_result"
    }
   ],
   "source": [
    "pv2.get_isp_dict()"
   ]
  },
  {
   "cell_type": "code",
   "execution_count": null,
   "id": "0a09faec",
   "metadata": {},
   "outputs": [],
   "source": []
  }
 ],
 "metadata": {
  "kernelspec": {
   "display_name": "Python 3 (ipykernel)",
   "language": "python",
   "name": "python3"
  },
  "language_info": {
   "codemirror_mode": {
    "name": "ipython",
    "version": 3
   },
   "file_extension": ".py",
   "mimetype": "text/x-python",
   "name": "python",
   "nbconvert_exporter": "python",
   "pygments_lexer": "ipython3",
   "version": "3.8.13"
  }
 },
 "nbformat": 4,
 "nbformat_minor": 5
}
