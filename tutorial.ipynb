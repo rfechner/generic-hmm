{
 "cells": [
  {
   "cell_type": "code",
   "execution_count": 1,
   "metadata": {
    "ExecuteTime": {
     "end_time": "2023-10-18T12:55:59.979336900Z",
     "start_time": "2023-10-18T12:55:57.977069800Z"
    },
    "pycharm": {
     "name": "#%%\n"
    }
   },
   "outputs": [],
   "source": [
    "from controller import Controller\n",
    "import os\n",
    "import warnings\n",
    "\n",
    "\n",
    "warnings.filterwarnings('ignore')\n",
    "\n",
    "path_to_data = os.path.join(os.curdir, 'data/train.csv')\n",
    "path_to_config = os.path.join(os.curdir, 'data/train.ini')\n",
    "path_to_observation = os.path.join(os.curdir, 'data/single1.csv')"
   ]
  },
  {
   "cell_type": "code",
   "execution_count": 2,
   "metadata": {},
   "outputs": [],
   "source": [
    "import pandas as pd\n",
    "import matplotlib.pyplot as plt\n",
    "from collections import Counter"
   ]
  },
  {
   "cell_type": "code",
   "execution_count": 3,
   "metadata": {
    "pycharm": {
     "name": "#%%\n"
    }
   },
   "outputs": [
    {
     "name": "stdout",
     "output_type": "stream",
     "text": [
      "Extracting counts. This may take some time.\n"
     ]
    },
    {
     "name": "stderr",
     "output_type": "stream",
     "text": [
      "100%|██████████| 270/270 [00:00<00:00, 1144.59it/s]\n"
     ]
    },
    {
     "name": "stdout",
     "output_type": "stream",
     "text": [
      "Calculating initial state probabilities.\n"
     ]
    },
    {
     "name": "stderr",
     "output_type": "stream",
     "text": [
      "100%|██████████| 6/6 [00:00<00:00, 43539.49it/s]\n"
     ]
    },
    {
     "name": "stdout",
     "output_type": "stream",
     "text": [
      "Calculating state transition probabilities.\n"
     ]
    },
    {
     "name": "stderr",
     "output_type": "stream",
     "text": [
      "100%|██████████| 6/6 [00:00<00:00, 636.32it/s]\n"
     ]
    },
    {
     "name": "stdout",
     "output_type": "stream",
     "text": [
      "Calculating observation probabilities.\n"
     ]
    },
    {
     "name": "stderr",
     "output_type": "stream",
     "text": [
      "100%|██████████| 6/6 [00:00<00:00, 657.62it/s]\n"
     ]
    },
    {
     "name": "stdout",
     "output_type": "stream",
     "text": [
      "Extraction of probabilities successful. Elapsed time: 0.0 hours, 0.0 minutes and 0.3514597415924072 seconds\n"
     ]
    },
    {
     "name": "stderr",
     "output_type": "stream",
     "text": [
      "100%|██████████| 30/30 [00:00<00:00, 771.93it/s]\n"
     ]
    },
    {
     "name": "stdout",
     "output_type": "stream",
     "text": [
      "[0, 1, 2, 3, 4, 5] ['bad', 'good', 'med', 'med-bad', 'med-good', 'severe']\n",
      "=========== Classification Report ===========\n",
      "\n",
      "              precision    recall  f1-score   support\n",
      "\n",
      "         bad       0.80      0.92      0.86        49\n",
      "        good       0.75      0.89      0.81        27\n",
      "         med       0.84      0.74      0.79        43\n",
      "     med-bad       0.83      0.76      0.79        33\n",
      "    med-good       0.77      0.61      0.68        33\n",
      "      severe       0.89      0.97      0.93        32\n",
      "\n",
      "    accuracy                           0.82       217\n",
      "   macro avg       0.81      0.81      0.81       217\n",
      "weighted avg       0.82      0.82      0.81       217\n",
      "\n",
      "Extracting counts. This may take some time.\n"
     ]
    },
    {
     "name": "stderr",
     "output_type": "stream",
     "text": [
      "100%|██████████| 270/270 [00:00<00:00, 1145.60it/s]\n"
     ]
    },
    {
     "name": "stdout",
     "output_type": "stream",
     "text": [
      "Calculating initial state probabilities.\n"
     ]
    },
    {
     "name": "stderr",
     "output_type": "stream",
     "text": [
      "100%|██████████| 6/6 [00:00<00:00, 50031.46it/s]\n"
     ]
    },
    {
     "name": "stdout",
     "output_type": "stream",
     "text": [
      "Calculating state transition probabilities.\n"
     ]
    },
    {
     "name": "stderr",
     "output_type": "stream",
     "text": [
      "100%|██████████| 6/6 [00:00<00:00, 975.31it/s]\n"
     ]
    },
    {
     "name": "stdout",
     "output_type": "stream",
     "text": [
      "Calculating observation probabilities.\n"
     ]
    },
    {
     "name": "stderr",
     "output_type": "stream",
     "text": [
      "100%|██████████| 6/6 [00:00<00:00, 342.35it/s]\n"
     ]
    },
    {
     "name": "stdout",
     "output_type": "stream",
     "text": [
      "Extraction of probabilities successful. Elapsed time: 0.0 hours, 0.0 minutes and 0.2914237976074219 seconds\n"
     ]
    },
    {
     "name": "stderr",
     "output_type": "stream",
     "text": [
      "100%|██████████| 30/30 [00:00<00:00, 880.10it/s]\n"
     ]
    },
    {
     "name": "stdout",
     "output_type": "stream",
     "text": [
      "[0, 1, 2, 3, 4, 5] ['bad', 'good', 'med', 'med-bad', 'med-good', 'severe']\n",
      "=========== Classification Report ===========\n",
      "\n",
      "              precision    recall  f1-score   support\n",
      "\n",
      "         bad       0.86      0.94      0.90        69\n",
      "        good       0.67      0.80      0.73        25\n",
      "         med       0.77      0.63      0.69        43\n",
      "     med-bad       0.62      0.71      0.67        28\n",
      "    med-good       0.76      0.60      0.67        42\n",
      "      severe       0.95      0.97      0.96        60\n",
      "\n",
      "    accuracy                           0.81       267\n",
      "   macro avg       0.77      0.77      0.77       267\n",
      "weighted avg       0.81      0.81      0.80       267\n",
      "\n",
      "Extracting counts. This may take some time.\n"
     ]
    },
    {
     "name": "stderr",
     "output_type": "stream",
     "text": [
      "100%|██████████| 270/270 [00:00<00:00, 1226.17it/s]\n"
     ]
    },
    {
     "name": "stdout",
     "output_type": "stream",
     "text": [
      "Calculating initial state probabilities.\n"
     ]
    },
    {
     "name": "stderr",
     "output_type": "stream",
     "text": [
      "100%|██████████| 6/6 [00:00<00:00, 61082.10it/s]\n"
     ]
    },
    {
     "name": "stdout",
     "output_type": "stream",
     "text": [
      "Calculating state transition probabilities.\n"
     ]
    },
    {
     "name": "stderr",
     "output_type": "stream",
     "text": [
      "100%|██████████| 6/6 [00:00<00:00, 871.33it/s]\n"
     ]
    },
    {
     "name": "stdout",
     "output_type": "stream",
     "text": [
      "Calculating observation probabilities.\n"
     ]
    },
    {
     "name": "stderr",
     "output_type": "stream",
     "text": [
      "100%|██████████| 6/6 [00:00<00:00, 1007.96it/s]\n"
     ]
    },
    {
     "name": "stdout",
     "output_type": "stream",
     "text": [
      "Extraction of probabilities successful. Elapsed time: 0.0 hours, 0.0 minutes and 0.3173329830169678 seconds\n"
     ]
    },
    {
     "name": "stderr",
     "output_type": "stream",
     "text": [
      "100%|██████████| 30/30 [00:00<00:00, 907.33it/s]\n"
     ]
    },
    {
     "name": "stdout",
     "output_type": "stream",
     "text": [
      "[0, 1, 2, 3, 4, 5] ['bad', 'good', 'med', 'med-bad', 'med-good', 'severe']\n",
      "=========== Classification Report ===========\n",
      "\n",
      "              precision    recall  f1-score   support\n",
      "\n",
      "         bad       0.91      0.94      0.93        68\n",
      "        good       0.83      0.88      0.86        34\n",
      "         med       0.80      0.91      0.85        44\n",
      "     med-bad       0.84      0.82      0.83        33\n",
      "    med-good       0.86      0.60      0.71        40\n",
      "      severe       0.96      1.00      0.98        79\n",
      "\n",
      "    accuracy                           0.89       298\n",
      "   macro avg       0.87      0.86      0.86       298\n",
      "weighted avg       0.89      0.89      0.88       298\n",
      "\n",
      "Extracting counts. This may take some time.\n"
     ]
    },
    {
     "name": "stderr",
     "output_type": "stream",
     "text": [
      "100%|██████████| 270/270 [00:00<00:00, 1145.71it/s]\n"
     ]
    },
    {
     "name": "stdout",
     "output_type": "stream",
     "text": [
      "Calculating initial state probabilities.\n"
     ]
    },
    {
     "name": "stderr",
     "output_type": "stream",
     "text": [
      "100%|██████████| 6/6 [00:00<00:00, 39882.45it/s]\n"
     ]
    },
    {
     "name": "stdout",
     "output_type": "stream",
     "text": [
      "Calculating state transition probabilities.\n"
     ]
    },
    {
     "name": "stderr",
     "output_type": "stream",
     "text": [
      "100%|██████████| 6/6 [00:00<00:00, 1013.36it/s]\n"
     ]
    },
    {
     "name": "stdout",
     "output_type": "stream",
     "text": [
      "Calculating observation probabilities.\n"
     ]
    },
    {
     "name": "stderr",
     "output_type": "stream",
     "text": [
      "100%|██████████| 6/6 [00:00<00:00, 638.71it/s]\n"
     ]
    },
    {
     "name": "stdout",
     "output_type": "stream",
     "text": [
      "Extraction of probabilities successful. Elapsed time: 0.0 hours, 0.0 minutes and 0.28470945358276367 seconds\n"
     ]
    },
    {
     "name": "stderr",
     "output_type": "stream",
     "text": [
      "100%|██████████| 30/30 [00:00<00:00, 852.50it/s]\n"
     ]
    },
    {
     "name": "stdout",
     "output_type": "stream",
     "text": [
      "[0, 1, 2, 3, 4, 5] ['bad', 'good', 'med', 'med-bad', 'med-good', 'severe']\n",
      "=========== Classification Report ===========\n",
      "\n",
      "              precision    recall  f1-score   support\n",
      "\n",
      "         bad       0.82      0.92      0.87        39\n",
      "        good       0.74      0.83      0.78        24\n",
      "         med       0.80      0.74      0.77        43\n",
      "     med-bad       0.63      0.73      0.68        26\n",
      "    med-good       0.84      0.63      0.72        41\n",
      "      severe       0.97      1.00      0.99        37\n",
      "\n",
      "    accuracy                           0.81       210\n",
      "   macro avg       0.80      0.81      0.80       210\n",
      "weighted avg       0.81      0.81      0.81       210\n",
      "\n",
      "Extracting counts. This may take some time.\n"
     ]
    },
    {
     "name": "stderr",
     "output_type": "stream",
     "text": [
      "100%|██████████| 270/270 [00:00<00:00, 1203.74it/s]\n"
     ]
    },
    {
     "name": "stdout",
     "output_type": "stream",
     "text": [
      "Calculating initial state probabilities.\n"
     ]
    },
    {
     "name": "stderr",
     "output_type": "stream",
     "text": [
      "100%|██████████| 6/6 [00:00<00:00, 48960.75it/s]\n"
     ]
    },
    {
     "name": "stdout",
     "output_type": "stream",
     "text": [
      "Calculating state transition probabilities.\n"
     ]
    },
    {
     "name": "stderr",
     "output_type": "stream",
     "text": [
      "100%|██████████| 6/6 [00:00<00:00, 944.95it/s]\n"
     ]
    },
    {
     "name": "stdout",
     "output_type": "stream",
     "text": [
      "Calculating observation probabilities.\n"
     ]
    },
    {
     "name": "stderr",
     "output_type": "stream",
     "text": [
      "100%|██████████| 6/6 [00:00<00:00, 989.14it/s]\n"
     ]
    },
    {
     "name": "stdout",
     "output_type": "stream",
     "text": [
      "Extraction of probabilities successful. Elapsed time: 0.0 hours, 0.0 minutes and 0.2684140205383301 seconds\n"
     ]
    },
    {
     "name": "stderr",
     "output_type": "stream",
     "text": [
      "100%|██████████| 30/30 [00:00<00:00, 1000.05it/s]\n"
     ]
    },
    {
     "name": "stdout",
     "output_type": "stream",
     "text": [
      "[0, 1, 2, 3, 4, 5] ['bad', 'good', 'med', 'med-bad', 'med-good', 'severe']\n",
      "=========== Classification Report ===========\n",
      "\n",
      "              precision    recall  f1-score   support\n",
      "\n",
      "         bad       0.92      0.95      0.93        60\n",
      "        good       0.74      0.92      0.82        25\n",
      "         med       0.83      0.73      0.78        41\n",
      "     med-bad       0.76      0.83      0.79        30\n",
      "    med-good       0.91      0.74      0.82        43\n",
      "      severe       0.96      0.99      0.97        74\n",
      "\n",
      "    accuracy                           0.88       273\n",
      "   macro avg       0.85      0.86      0.85       273\n",
      "weighted avg       0.88      0.88      0.88       273\n",
      "\n",
      "Extracting counts. This may take some time.\n"
     ]
    },
    {
     "name": "stderr",
     "output_type": "stream",
     "text": [
      "100%|██████████| 270/270 [00:00<00:00, 1200.17it/s]\n"
     ]
    },
    {
     "name": "stdout",
     "output_type": "stream",
     "text": [
      "Calculating initial state probabilities.\n"
     ]
    },
    {
     "name": "stderr",
     "output_type": "stream",
     "text": [
      "100%|██████████| 6/6 [00:00<00:00, 40201.00it/s]\n"
     ]
    },
    {
     "name": "stdout",
     "output_type": "stream",
     "text": [
      "Calculating state transition probabilities.\n"
     ]
    },
    {
     "name": "stderr",
     "output_type": "stream",
     "text": [
      "100%|██████████| 6/6 [00:00<00:00, 931.10it/s]\n"
     ]
    },
    {
     "name": "stdout",
     "output_type": "stream",
     "text": [
      "Calculating observation probabilities.\n"
     ]
    },
    {
     "name": "stderr",
     "output_type": "stream",
     "text": [
      "100%|██████████| 6/6 [00:00<00:00, 879.37it/s]\n"
     ]
    },
    {
     "name": "stdout",
     "output_type": "stream",
     "text": [
      "Extraction of probabilities successful. Elapsed time: 0.0 hours, 0.0 minutes and 0.3211367130279541 seconds\n"
     ]
    },
    {
     "name": "stderr",
     "output_type": "stream",
     "text": [
      "100%|██████████| 30/30 [00:00<00:00, 957.57it/s]\n"
     ]
    },
    {
     "name": "stdout",
     "output_type": "stream",
     "text": [
      "[0, 1, 2, 3, 4, 5] ['bad', 'good', 'med', 'med-bad', 'med-good', 'severe']\n",
      "=========== Classification Report ===========\n",
      "\n",
      "              precision    recall  f1-score   support\n",
      "\n",
      "         bad       0.88      0.95      0.91        61\n",
      "        good       0.67      0.72      0.69        25\n",
      "         med       0.87      0.79      0.83        33\n",
      "     med-bad       0.84      0.75      0.79        28\n",
      "    med-good       0.73      0.67      0.70        33\n",
      "      severe       0.97      0.99      0.98        91\n",
      "\n",
      "    accuracy                           0.87       271\n",
      "   macro avg       0.83      0.81      0.82       271\n",
      "weighted avg       0.87      0.87      0.87       271\n",
      "\n",
      "Extracting counts. This may take some time.\n"
     ]
    },
    {
     "name": "stderr",
     "output_type": "stream",
     "text": [
      "100%|██████████| 270/270 [00:00<00:00, 1143.37it/s]\n"
     ]
    },
    {
     "name": "stdout",
     "output_type": "stream",
     "text": [
      "Calculating initial state probabilities.\n"
     ]
    },
    {
     "name": "stderr",
     "output_type": "stream",
     "text": [
      "100%|██████████| 6/6 [00:00<00:00, 36738.43it/s]\n"
     ]
    },
    {
     "name": "stdout",
     "output_type": "stream",
     "text": [
      "Calculating state transition probabilities.\n"
     ]
    },
    {
     "name": "stderr",
     "output_type": "stream",
     "text": [
      "100%|██████████| 6/6 [00:00<00:00, 1015.61it/s]\n"
     ]
    },
    {
     "name": "stdout",
     "output_type": "stream",
     "text": [
      "Calculating observation probabilities.\n"
     ]
    },
    {
     "name": "stderr",
     "output_type": "stream",
     "text": [
      "100%|██████████| 6/6 [00:00<00:00, 683.13it/s]\n"
     ]
    },
    {
     "name": "stdout",
     "output_type": "stream",
     "text": [
      "Extraction of probabilities successful. Elapsed time: 0.0 hours, 0.0 minutes and 0.28278493881225586 seconds\n"
     ]
    },
    {
     "name": "stderr",
     "output_type": "stream",
     "text": [
      "100%|██████████| 30/30 [00:00<00:00, 791.37it/s]\n"
     ]
    },
    {
     "name": "stdout",
     "output_type": "stream",
     "text": [
      "[0, 1, 2, 3, 4, 5] ['bad', 'good', 'med', 'med-bad', 'med-good', 'severe']\n",
      "=========== Classification Report ===========\n",
      "\n",
      "              precision    recall  f1-score   support\n",
      "\n",
      "         bad       0.83      0.96      0.89        54\n",
      "        good       0.85      0.88      0.87        33\n",
      "         med       0.61      0.61      0.61        31\n",
      "     med-bad       0.83      0.71      0.77        42\n",
      "    med-good       0.71      0.61      0.66        33\n",
      "      severe       0.98      0.99      0.98        84\n",
      "\n",
      "    accuracy                           0.84       277\n",
      "   macro avg       0.80      0.79      0.80       277\n",
      "weighted avg       0.84      0.84      0.84       277\n",
      "\n",
      "Extracting counts. This may take some time.\n"
     ]
    },
    {
     "name": "stderr",
     "output_type": "stream",
     "text": [
      "100%|██████████| 270/270 [00:00<00:00, 1216.44it/s]\n"
     ]
    },
    {
     "name": "stdout",
     "output_type": "stream",
     "text": [
      "Calculating initial state probabilities.\n"
     ]
    },
    {
     "name": "stderr",
     "output_type": "stream",
     "text": [
      "100%|██████████| 6/6 [00:00<00:00, 56425.61it/s]\n"
     ]
    },
    {
     "name": "stdout",
     "output_type": "stream",
     "text": [
      "Calculating state transition probabilities.\n"
     ]
    },
    {
     "name": "stderr",
     "output_type": "stream",
     "text": [
      "100%|██████████| 6/6 [00:00<00:00, 868.87it/s]\n"
     ]
    },
    {
     "name": "stdout",
     "output_type": "stream",
     "text": [
      "Calculating observation probabilities.\n"
     ]
    },
    {
     "name": "stderr",
     "output_type": "stream",
     "text": [
      "100%|██████████| 6/6 [00:00<00:00, 1075.78it/s]\n"
     ]
    },
    {
     "name": "stdout",
     "output_type": "stream",
     "text": [
      "Extraction of probabilities successful. Elapsed time: 0.0 hours, 0.0 minutes and 0.26568078994750977 seconds\n"
     ]
    },
    {
     "name": "stderr",
     "output_type": "stream",
     "text": [
      "100%|██████████| 30/30 [00:00<00:00, 975.09it/s]\n"
     ]
    },
    {
     "name": "stdout",
     "output_type": "stream",
     "text": [
      "[0, 1, 2, 3, 4, 5] ['bad', 'good', 'med', 'med-bad', 'med-good', 'severe']\n",
      "=========== Classification Report ===========\n",
      "\n",
      "              precision    recall  f1-score   support\n",
      "\n",
      "         bad       0.84      0.91      0.87        65\n",
      "        good       0.65      0.86      0.74        28\n",
      "         med       0.86      0.72      0.78        43\n",
      "     med-bad       0.86      0.75      0.80        32\n",
      "    med-good       0.76      0.63      0.69        46\n",
      "      severe       0.92      0.99      0.95        74\n",
      "\n",
      "    accuracy                           0.83       288\n",
      "   macro avg       0.82      0.81      0.81       288\n",
      "weighted avg       0.84      0.83      0.83       288\n",
      "\n",
      "Extracting counts. This may take some time.\n"
     ]
    },
    {
     "name": "stderr",
     "output_type": "stream",
     "text": [
      "100%|██████████| 270/270 [00:00<00:00, 1206.02it/s]\n"
     ]
    },
    {
     "name": "stdout",
     "output_type": "stream",
     "text": [
      "Calculating initial state probabilities.\n"
     ]
    },
    {
     "name": "stderr",
     "output_type": "stream",
     "text": [
      "100%|██████████| 6/6 [00:00<00:00, 48770.98it/s]\n"
     ]
    },
    {
     "name": "stdout",
     "output_type": "stream",
     "text": [
      "Calculating state transition probabilities.\n"
     ]
    },
    {
     "name": "stderr",
     "output_type": "stream",
     "text": [
      "100%|██████████| 6/6 [00:00<00:00, 771.15it/s]\n"
     ]
    },
    {
     "name": "stdout",
     "output_type": "stream",
     "text": [
      "Calculating observation probabilities.\n"
     ]
    },
    {
     "name": "stderr",
     "output_type": "stream",
     "text": [
      "100%|██████████| 6/6 [00:00<00:00, 465.07it/s]\n"
     ]
    },
    {
     "name": "stdout",
     "output_type": "stream",
     "text": [
      "Extraction of probabilities successful. Elapsed time: 0.0 hours, 0.0 minutes and 0.27675676345825195 seconds\n"
     ]
    },
    {
     "name": "stderr",
     "output_type": "stream",
     "text": [
      "100%|██████████| 30/30 [00:00<00:00, 910.62it/s]\n"
     ]
    },
    {
     "name": "stdout",
     "output_type": "stream",
     "text": [
      "[0, 1, 2, 3, 4, 5] ['bad', 'good', 'med', 'med-bad', 'med-good', 'severe']\n",
      "=========== Classification Report ===========\n",
      "\n",
      "              precision    recall  f1-score   support\n",
      "\n",
      "         bad       0.75      0.88      0.81        69\n",
      "        good       0.65      0.81      0.72        16\n",
      "         med       0.77      0.63      0.69        27\n",
      "     med-bad       0.81      0.58      0.68        36\n",
      "    med-good       0.72      0.57      0.63        23\n",
      "      severe       0.91      0.96      0.93        74\n",
      "\n",
      "    accuracy                           0.80       245\n",
      "   macro avg       0.77      0.74      0.75       245\n",
      "weighted avg       0.80      0.80      0.79       245\n",
      "\n",
      "Extracting counts. This may take some time.\n"
     ]
    },
    {
     "name": "stderr",
     "output_type": "stream",
     "text": [
      "100%|██████████| 270/270 [00:00<00:00, 1188.03it/s]\n"
     ]
    },
    {
     "name": "stdout",
     "output_type": "stream",
     "text": [
      "Calculating initial state probabilities.\n"
     ]
    },
    {
     "name": "stderr",
     "output_type": "stream",
     "text": [
      "100%|██████████| 6/6 [00:00<00:00, 54236.69it/s]\n"
     ]
    },
    {
     "name": "stdout",
     "output_type": "stream",
     "text": [
      "Calculating state transition probabilities.\n"
     ]
    },
    {
     "name": "stderr",
     "output_type": "stream",
     "text": [
      "100%|██████████| 6/6 [00:00<00:00, 1031.13it/s]\n"
     ]
    },
    {
     "name": "stdout",
     "output_type": "stream",
     "text": [
      "Calculating observation probabilities.\n"
     ]
    },
    {
     "name": "stderr",
     "output_type": "stream",
     "text": [
      "100%|██████████| 6/6 [00:00<00:00, 906.65it/s]\n"
     ]
    },
    {
     "name": "stdout",
     "output_type": "stream",
     "text": [
      "Extraction of probabilities successful. Elapsed time: 0.0 hours, 0.0 minutes and 0.27104830741882324 seconds\n"
     ]
    },
    {
     "name": "stderr",
     "output_type": "stream",
     "text": [
      "100%|██████████| 30/30 [00:00<00:00, 858.01it/s]"
     ]
    },
    {
     "name": "stdout",
     "output_type": "stream",
     "text": [
      "[0, 1, 2, 3, 4, 5] ['bad', 'good', 'med', 'med-bad', 'med-good', 'severe']\n",
      "=========== Classification Report ===========\n",
      "\n",
      "              precision    recall  f1-score   support\n",
      "\n",
      "         bad       0.79      0.93      0.85        69\n",
      "        good       0.80      0.92      0.86        26\n",
      "         med       0.84      0.78      0.81        40\n",
      "     med-bad       0.83      0.62      0.71        40\n",
      "    med-good       0.81      0.68      0.74        38\n",
      "      severe       0.93      0.98      0.96        58\n",
      "\n",
      "    accuracy                           0.84       271\n",
      "   macro avg       0.83      0.82      0.82       271\n",
      "weighted avg       0.84      0.84      0.83       271\n",
      "\n",
      "Metrics:\n",
      "F1: 0.807927 ± 0.034332\t Recall: 0.809065 ± 0.035924\t Precision: 0.815733 ± 0.032151\n"
     ]
    },
    {
     "name": "stderr",
     "output_type": "stream",
     "text": [
      "\n"
     ]
    }
   ],
   "source": [
    "c = Controller()\n",
    "\n",
    "# 10-fold cross validation\n",
    "f1_scores, recall_scores, precision_scores, cmatrices = c.kfold_cross_validation(path_to_data=path_to_data,\n",
    "                         path_to_config=path_to_config,\n",
    "                         csv_delimiter=',',\n",
    "                         hidden_marker='diagnosis',\n",
    "                         layers=['mobility', 'motoric', 'neuro'],\n",
    "                         k = 10)"
   ]
  },
  {
   "cell_type": "code",
   "execution_count": 4,
   "metadata": {},
   "outputs": [],
   "source": [
    "import numpy as np"
   ]
  },
  {
   "cell_type": "code",
   "execution_count": 5,
   "metadata": {},
   "outputs": [],
   "source": [
    "cmatrices_ = np.array(cmatrices).sum(0)"
   ]
  },
  {
   "cell_type": "code",
   "execution_count": 6,
   "metadata": {},
   "outputs": [
    {
     "data": {
      "text/plain": [
       "<matplotlib.image.AxesImage at 0x76c23d388760>"
      ]
     },
     "execution_count": 6,
     "metadata": {},
     "output_type": "execute_result"
    },
    {
     "data": {
      "image/png": "[encoded data removed]",
      "text/plain": [
       "<Figure size 640x480 with 1 Axes>"
      ]
     },
     "metadata": {},
     "output_type": "display_data"
    }
   ],
   "source": [
    "plt.imshow(cmatrices_)"
   ]
  },
  {
   "cell_type": "code",
   "execution_count": 7,
   "metadata": {
    "pycharm": {
     "name": "#%%\n"
    }
   },
   "outputs": [
    {
     "name": "stdout",
     "output_type": "stream",
     "text": [
      "Extracting counts. This may take some time.\n"
     ]
    },
    {
     "name": "stderr",
     "output_type": "stream",
     "text": [
      "100%|██████████| 300/300 [00:00<00:00, 1172.63it/s]\n"
     ]
    },
    {
     "name": "stdout",
     "output_type": "stream",
     "text": [
      "Calculating initial state probabilities.\n"
     ]
    },
    {
     "name": "stderr",
     "output_type": "stream",
     "text": [
      "100%|██████████| 6/6 [00:00<00:00, 66052.03it/s]\n"
     ]
    },
    {
     "name": "stdout",
     "output_type": "stream",
     "text": [
      "Calculating state transition probabilities.\n"
     ]
    },
    {
     "name": "stderr",
     "output_type": "stream",
     "text": [
      "100%|██████████| 6/6 [00:00<00:00, 1021.17it/s]\n"
     ]
    },
    {
     "name": "stdout",
     "output_type": "stream",
     "text": [
      "Calculating observation probabilities.\n"
     ]
    },
    {
     "name": "stderr",
     "output_type": "stream",
     "text": [
      "100%|██████████| 6/6 [00:00<00:00, 940.99it/s]"
     ]
    },
    {
     "name": "stdout",
     "output_type": "stream",
     "text": [
      "Extraction of probabilities successful. Elapsed time: 0.0 hours, 0.0 minutes and 0.3034393787384033 seconds\n"
     ]
    },
    {
     "name": "stderr",
     "output_type": "stream",
     "text": [
      "\n"
     ]
    },
    {
     "data": {
      "text/html": [
       "<div>\n",
       "<style scoped>\n",
       "    .dataframe tbody tr th:only-of-type {\n",
       "        vertical-align: middle;\n",
       "    }\n",
       "\n",
       "    .dataframe tbody tr th {\n",
       "        vertical-align: top;\n",
       "    }\n",
       "\n",
       "    .dataframe thead th {\n",
       "        text-align: right;\n",
       "    }\n",
       "</style>\n",
       "<table border=\"1\" class=\"dataframe\">\n",
       "  <thead>\n",
       "    <tr style=\"text-align: right;\">\n",
       "      <th></th>\n",
       "      <th>id</th>\n",
       "      <th>date</th>\n",
       "      <th>mobility</th>\n",
       "      <th>motoric</th>\n",
       "      <th>neuro</th>\n",
       "      <th>diagnosis</th>\n",
       "      <th>Predicted state for diagnosis</th>\n",
       "    </tr>\n",
       "  </thead>\n",
       "  <tbody>\n",
       "    <tr>\n",
       "      <th>0</th>\n",
       "      <td>0</td>\n",
       "      <td>2022-08-03</td>\n",
       "      <td>good</td>\n",
       "      <td>med-good</td>\n",
       "      <td>med-bad</td>\n",
       "      <td>good</td>\n",
       "      <td>good</td>\n",
       "    </tr>\n",
       "    <tr>\n",
       "      <th>1</th>\n",
       "      <td>0</td>\n",
       "      <td>2022-08-04</td>\n",
       "      <td>good</td>\n",
       "      <td>good</td>\n",
       "      <td>good</td>\n",
       "      <td>good</td>\n",
       "      <td>good</td>\n",
       "    </tr>\n",
       "    <tr>\n",
       "      <th>2</th>\n",
       "      <td>0</td>\n",
       "      <td>2022-08-09</td>\n",
       "      <td>med-good</td>\n",
       "      <td>med-good</td>\n",
       "      <td>bad</td>\n",
       "      <td>med-good</td>\n",
       "      <td>med-good</td>\n",
       "    </tr>\n",
       "    <tr>\n",
       "      <th>3</th>\n",
       "      <td>0</td>\n",
       "      <td>2022-08-11</td>\n",
       "      <td>med-good</td>\n",
       "      <td>med</td>\n",
       "      <td>med-bad</td>\n",
       "      <td>med-good</td>\n",
       "      <td>med-good</td>\n",
       "    </tr>\n",
       "    <tr>\n",
       "      <th>4</th>\n",
       "      <td>0</td>\n",
       "      <td>2022-08-12</td>\n",
       "      <td>good</td>\n",
       "      <td>med-good</td>\n",
       "      <td>med-good</td>\n",
       "      <td>med-good</td>\n",
       "      <td>med-good</td>\n",
       "    </tr>\n",
       "    <tr>\n",
       "      <th>5</th>\n",
       "      <td>0</td>\n",
       "      <td>2022-08-13</td>\n",
       "      <td>med</td>\n",
       "      <td>med-bad</td>\n",
       "      <td>med</td>\n",
       "      <td>med-good</td>\n",
       "      <td>med</td>\n",
       "    </tr>\n",
       "    <tr>\n",
       "      <th>6</th>\n",
       "      <td>0</td>\n",
       "      <td>2022-08-14</td>\n",
       "      <td>med-good</td>\n",
       "      <td>med</td>\n",
       "      <td>bad</td>\n",
       "      <td>med</td>\n",
       "      <td>med</td>\n",
       "    </tr>\n",
       "    <tr>\n",
       "      <th>7</th>\n",
       "      <td>0</td>\n",
       "      <td>2022-08-15</td>\n",
       "      <td>med</td>\n",
       "      <td>med</td>\n",
       "      <td>med-bad</td>\n",
       "      <td>med</td>\n",
       "      <td>med</td>\n",
       "    </tr>\n",
       "    <tr>\n",
       "      <th>8</th>\n",
       "      <td>0</td>\n",
       "      <td>2022-08-16</td>\n",
       "      <td>good</td>\n",
       "      <td>med-bad</td>\n",
       "      <td>med-bad</td>\n",
       "      <td>med</td>\n",
       "      <td>med</td>\n",
       "    </tr>\n",
       "    <tr>\n",
       "      <th>9</th>\n",
       "      <td>0</td>\n",
       "      <td>2022-08-22</td>\n",
       "      <td>med-bad</td>\n",
       "      <td>bad</td>\n",
       "      <td>med</td>\n",
       "      <td>med</td>\n",
       "      <td>med</td>\n",
       "    </tr>\n",
       "    <tr>\n",
       "      <th>10</th>\n",
       "      <td>0</td>\n",
       "      <td>2022-08-24</td>\n",
       "      <td>good</td>\n",
       "      <td>med</td>\n",
       "      <td>med</td>\n",
       "      <td>med</td>\n",
       "      <td>med</td>\n",
       "    </tr>\n",
       "    <tr>\n",
       "      <th>11</th>\n",
       "      <td>0</td>\n",
       "      <td>2022-08-25</td>\n",
       "      <td>med</td>\n",
       "      <td>med-bad</td>\n",
       "      <td>bad</td>\n",
       "      <td>med-bad</td>\n",
       "      <td>med-bad</td>\n",
       "    </tr>\n",
       "    <tr>\n",
       "      <th>12</th>\n",
       "      <td>0</td>\n",
       "      <td>2022-08-26</td>\n",
       "      <td>med-bad</td>\n",
       "      <td>bad</td>\n",
       "      <td>bad</td>\n",
       "      <td>med-bad</td>\n",
       "      <td>bad</td>\n",
       "    </tr>\n",
       "    <tr>\n",
       "      <th>13</th>\n",
       "      <td>0</td>\n",
       "      <td>2022-08-27</td>\n",
       "      <td>severe</td>\n",
       "      <td>severe</td>\n",
       "      <td>severe</td>\n",
       "      <td>severe</td>\n",
       "      <td>severe</td>\n",
       "    </tr>\n",
       "    <tr>\n",
       "      <th>14</th>\n",
       "      <td>0</td>\n",
       "      <td>2022-08-29</td>\n",
       "      <td>severe</td>\n",
       "      <td>severe</td>\n",
       "      <td>severe</td>\n",
       "      <td>severe</td>\n",
       "      <td>severe</td>\n",
       "    </tr>\n",
       "  </tbody>\n",
       "</table>\n",
       "</div>"
      ],
      "text/plain": [
       "    id        date  mobility   motoric     neuro diagnosis  \\\n",
       "0    0  2022-08-03      good  med-good   med-bad      good   \n",
       "1    0  2022-08-04      good      good      good      good   \n",
       "2    0  2022-08-09  med-good  med-good       bad  med-good   \n",
       "3    0  2022-08-11  med-good       med   med-bad  med-good   \n",
       "4    0  2022-08-12      good  med-good  med-good  med-good   \n",
       "5    0  2022-08-13       med   med-bad       med  med-good   \n",
       "6    0  2022-08-14  med-good       med       bad       med   \n",
       "7    0  2022-08-15       med       med   med-bad       med   \n",
       "8    0  2022-08-16      good   med-bad   med-bad       med   \n",
       "9    0  2022-08-22   med-bad       bad       med       med   \n",
       "10   0  2022-08-24      good       med       med       med   \n",
       "11   0  2022-08-25       med   med-bad       bad   med-bad   \n",
       "12   0  2022-08-26   med-bad       bad       bad   med-bad   \n",
       "13   0  2022-08-27    severe    severe    severe    severe   \n",
       "14   0  2022-08-29    severe    severe    severe    severe   \n",
       "\n",
       "   Predicted state for diagnosis  \n",
       "0                           good  \n",
       "1                           good  \n",
       "2                       med-good  \n",
       "3                       med-good  \n",
       "4                       med-good  \n",
       "5                            med  \n",
       "6                            med  \n",
       "7                            med  \n",
       "8                            med  \n",
       "9                            med  \n",
       "10                           med  \n",
       "11                       med-bad  \n",
       "12                           bad  \n",
       "13                        severe  \n",
       "14                        severe  "
      ]
     },
     "execution_count": 7,
     "metadata": {},
     "output_type": "execute_result"
    }
   ],
   "source": [
    "# construct our model\n",
    "c.construct(path_to_data=path_to_data,\n",
    "            path_to_config=path_to_config,\n",
    "            csv_delimiter=',')\n",
    "\n",
    "\"\"\"\n",
    "We are trying to make a sequence to sequence prediction. Solely from the sequences for markers\n",
    "of the layers mobility, motoric and neuro, we will try to infer the sequence of hidden states for the marker 'diagnosis'.\n",
    "\"\"\"\n",
    "\n",
    "c.optimal_state_sequence(path_to_observation=path_to_observation,\n",
    "                         csv_delimiter=',',\n",
    "                         hidden_marker='diagnosis',\n",
    "                         layers=['mobility', 'motoric', 'neuro'])"
   ]
  },
  {
   "cell_type": "code",
   "execution_count": 8,
   "metadata": {
    "pycharm": {
     "name": "#%%\n"
    }
   },
   "outputs": [
    {
     "data": {
      "image/png": "[encoded data removed]",
      "text/plain": [
       "<Figure size 640x480 with 1 Axes>"
      ]
     },
     "metadata": {},
     "output_type": "display_data"
    },
    {
     "data": {
      "text/plain": [
       "array([[0.        , 0.        , 0.        , 0.        , 0.        ,\n",
       "        0.        , 0.        , 0.        , 0.        , 0.        ,\n",
       "        0.        , 0.        , 0.88074786, 0.18666136, 0.07786666],\n",
       "       [1.        , 1.        , 0.34818218, 0.08330829, 0.01898931,\n",
       "        0.        , 0.        , 0.        , 0.        , 0.        ,\n",
       "        0.        , 0.        , 0.        , 0.        , 0.        ],\n",
       "       [0.        , 0.        , 0.        , 0.        , 0.        ,\n",
       "        0.41900105, 0.7044731 , 0.85946989, 0.94362527, 1.        ,\n",
       "        1.        , 0.08441659, 0.00211776, 0.        , 0.        ],\n",
       "       [0.        , 0.        , 0.        , 0.        , 0.        ,\n",
       "        0.        , 0.        , 0.        , 0.        , 0.        ,\n",
       "        0.        , 0.91558341, 0.11713438, 0.00857112, 0.00145809],\n",
       "       [0.        , 0.        , 0.65181782, 0.91669171, 0.98101069,\n",
       "        0.58099895, 0.2955269 , 0.14053011, 0.05637473, 0.        ,\n",
       "        0.        , 0.        , 0.        , 0.        , 0.        ],\n",
       "       [0.        , 0.        , 0.        , 0.        , 0.        ,\n",
       "        0.        , 0.        , 0.        , 0.        , 0.        ,\n",
       "        0.        , 0.        , 0.        , 0.80476752, 0.92067524]])"
      ]
     },
     "execution_count": 8,
     "metadata": {},
     "output_type": "execute_result"
    }
   ],
   "source": [
    "\"\"\" Now, let us try to plot the priors for the hiddens states. This time, we only use the layer motoric. \"\"\"\n",
    "\n",
    "c.plot_posterior_distribution(path_to_observation=path_to_observation,\n",
    "                              csv_delimiter=',',\n",
    "                              layers= ['motoric'],\n",
    "                              hidden_marker='diagnosis')"
   ]
  },
  {
   "cell_type": "code",
   "execution_count": 9,
   "metadata": {
    "pycharm": {
     "name": "#%%\n"
    }
   },
   "outputs": [
    {
     "data": {
      "image/png": "[encoded data removed]",
      "text/plain": [
       "<Figure size 640x480 with 1 Axes>"
      ]
     },
     "metadata": {},
     "output_type": "display_data"
    },
    {
     "data": {
      "text/plain": [
       "array([[1.71401767e-03, 0.00000000e+00, 1.54694946e-02, 3.77320810e-02,\n",
       "        7.75951390e-02, 1.52559481e-01, 1.02559389e-01, 1.28549774e-01,\n",
       "        3.43766309e-01, 7.43910627e-01, 3.29753499e-01, 4.98850121e-01,\n",
       "        6.21867048e-01, 5.95807525e-02, 3.26113932e-02],\n",
       "       [2.96388497e-01, 4.56032542e-01, 1.34673867e-01, 4.48528267e-02,\n",
       "        6.81953795e-02, 0.00000000e+00, 1.03705514e-02, 7.07432746e-03,\n",
       "        0.00000000e+00, 0.00000000e+00, 1.45920492e-03, 0.00000000e+00,\n",
       "        0.00000000e+00, 0.00000000e+00, 0.00000000e+00],\n",
       "       [3.64028055e-02, 6.23450211e-02, 1.79432414e-01, 5.42435720e-01,\n",
       "        3.11658418e-01, 3.83463214e-01, 5.87355880e-01, 5.58057141e-01,\n",
       "        2.39056086e-01, 9.80446593e-02, 3.75530769e-01, 1.32720320e-01,\n",
       "        5.41011621e-03, 0.00000000e+00, 0.00000000e+00],\n",
       "       [3.86779655e-02, 3.90724869e-02, 1.05732228e-01, 1.82527936e-01,\n",
       "        2.33791247e-01, 3.77504591e-01, 2.42862331e-01, 2.63083952e-01,\n",
       "        3.92056077e-01, 1.33327055e-01, 2.73215061e-01, 3.25546728e-01,\n",
       "        2.90900900e-02, 4.14744794e-03, 1.98897746e-03],\n",
       "       [6.26816714e-01, 4.42549950e-01, 5.64691996e-01, 1.92451436e-01,\n",
       "        3.08759816e-01, 8.58661641e-02, 5.68518477e-02, 4.32348052e-02,\n",
       "        1.95082345e-02, 0.00000000e+00, 2.00414664e-02, 8.14866933e-03,\n",
       "        0.00000000e+00, 0.00000000e+00, 0.00000000e+00],\n",
       "       [0.00000000e+00, 0.00000000e+00, 0.00000000e+00, 0.00000000e+00,\n",
       "        0.00000000e+00, 6.06549827e-04, 0.00000000e+00, 0.00000000e+00,\n",
       "        5.61329316e-03, 2.47176585e-02, 0.00000000e+00, 3.47341622e-02,\n",
       "        3.43632746e-01, 9.36271800e-01, 9.65399629e-01]])"
      ]
     },
     "execution_count": 9,
     "metadata": {},
     "output_type": "execute_result"
    }
   ],
   "source": [
    "\"\"\"To continue our analysis, let us try to predict the posteriors for the hidden state neuro solely from the layer motoric\"\"\"\n",
    "c.plot_posterior_distribution(path_to_observation=path_to_observation,\n",
    "                              csv_delimiter=',',\n",
    "                              layers= ['motoric'],\n",
    "                              hidden_marker='neuro')"
   ]
  },
  {
   "cell_type": "code",
   "execution_count": 10,
   "metadata": {
    "pycharm": {
     "name": "#%%\n"
    }
   },
   "outputs": [
    {
     "data": {
      "text/html": [
       "<div>\n",
       "<style scoped>\n",
       "    .dataframe tbody tr th:only-of-type {\n",
       "        vertical-align: middle;\n",
       "    }\n",
       "\n",
       "    .dataframe tbody tr th {\n",
       "        vertical-align: top;\n",
       "    }\n",
       "\n",
       "    .dataframe thead th {\n",
       "        text-align: right;\n",
       "    }\n",
       "</style>\n",
       "<table border=\"1\" class=\"dataframe\">\n",
       "  <thead>\n",
       "    <tr style=\"text-align: right;\">\n",
       "      <th></th>\n",
       "      <th>id</th>\n",
       "      <th>date</th>\n",
       "      <th>mobility</th>\n",
       "      <th>motoric</th>\n",
       "      <th>neuro</th>\n",
       "      <th>diagnosis</th>\n",
       "      <th>Predicted state for neuro</th>\n",
       "    </tr>\n",
       "  </thead>\n",
       "  <tbody>\n",
       "    <tr>\n",
       "      <th>0</th>\n",
       "      <td>0</td>\n",
       "      <td>2022-08-03</td>\n",
       "      <td>good</td>\n",
       "      <td>med-good</td>\n",
       "      <td>med-bad</td>\n",
       "      <td>good</td>\n",
       "      <td>med-good</td>\n",
       "    </tr>\n",
       "    <tr>\n",
       "      <th>1</th>\n",
       "      <td>0</td>\n",
       "      <td>2022-08-04</td>\n",
       "      <td>good</td>\n",
       "      <td>good</td>\n",
       "      <td>good</td>\n",
       "      <td>good</td>\n",
       "      <td>good</td>\n",
       "    </tr>\n",
       "    <tr>\n",
       "      <th>2</th>\n",
       "      <td>0</td>\n",
       "      <td>2022-08-09</td>\n",
       "      <td>med-good</td>\n",
       "      <td>med-good</td>\n",
       "      <td>bad</td>\n",
       "      <td>med-good</td>\n",
       "      <td>med-good</td>\n",
       "    </tr>\n",
       "    <tr>\n",
       "      <th>3</th>\n",
       "      <td>0</td>\n",
       "      <td>2022-08-11</td>\n",
       "      <td>med-good</td>\n",
       "      <td>med</td>\n",
       "      <td>med-bad</td>\n",
       "      <td>med-good</td>\n",
       "      <td>med</td>\n",
       "    </tr>\n",
       "    <tr>\n",
       "      <th>4</th>\n",
       "      <td>0</td>\n",
       "      <td>2022-08-12</td>\n",
       "      <td>good</td>\n",
       "      <td>med-good</td>\n",
       "      <td>med-good</td>\n",
       "      <td>med-good</td>\n",
       "      <td>med</td>\n",
       "    </tr>\n",
       "    <tr>\n",
       "      <th>5</th>\n",
       "      <td>0</td>\n",
       "      <td>2022-08-13</td>\n",
       "      <td>med</td>\n",
       "      <td>med-bad</td>\n",
       "      <td>med</td>\n",
       "      <td>med-good</td>\n",
       "      <td>bad</td>\n",
       "    </tr>\n",
       "    <tr>\n",
       "      <th>6</th>\n",
       "      <td>0</td>\n",
       "      <td>2022-08-14</td>\n",
       "      <td>med-good</td>\n",
       "      <td>med</td>\n",
       "      <td>bad</td>\n",
       "      <td>med</td>\n",
       "      <td>bad</td>\n",
       "    </tr>\n",
       "    <tr>\n",
       "      <th>7</th>\n",
       "      <td>0</td>\n",
       "      <td>2022-08-15</td>\n",
       "      <td>med</td>\n",
       "      <td>med</td>\n",
       "      <td>med-bad</td>\n",
       "      <td>med</td>\n",
       "      <td>bad</td>\n",
       "    </tr>\n",
       "    <tr>\n",
       "      <th>8</th>\n",
       "      <td>0</td>\n",
       "      <td>2022-08-16</td>\n",
       "      <td>good</td>\n",
       "      <td>med-bad</td>\n",
       "      <td>med-bad</td>\n",
       "      <td>med</td>\n",
       "      <td>bad</td>\n",
       "    </tr>\n",
       "    <tr>\n",
       "      <th>9</th>\n",
       "      <td>0</td>\n",
       "      <td>2022-08-22</td>\n",
       "      <td>med-bad</td>\n",
       "      <td>bad</td>\n",
       "      <td>med</td>\n",
       "      <td>med</td>\n",
       "      <td>bad</td>\n",
       "    </tr>\n",
       "    <tr>\n",
       "      <th>10</th>\n",
       "      <td>0</td>\n",
       "      <td>2022-08-24</td>\n",
       "      <td>good</td>\n",
       "      <td>med</td>\n",
       "      <td>med</td>\n",
       "      <td>med</td>\n",
       "      <td>bad</td>\n",
       "    </tr>\n",
       "    <tr>\n",
       "      <th>11</th>\n",
       "      <td>0</td>\n",
       "      <td>2022-08-25</td>\n",
       "      <td>med</td>\n",
       "      <td>med-bad</td>\n",
       "      <td>bad</td>\n",
       "      <td>med-bad</td>\n",
       "      <td>bad</td>\n",
       "    </tr>\n",
       "    <tr>\n",
       "      <th>12</th>\n",
       "      <td>0</td>\n",
       "      <td>2022-08-26</td>\n",
       "      <td>med-bad</td>\n",
       "      <td>bad</td>\n",
       "      <td>bad</td>\n",
       "      <td>med-bad</td>\n",
       "      <td>bad</td>\n",
       "    </tr>\n",
       "    <tr>\n",
       "      <th>13</th>\n",
       "      <td>0</td>\n",
       "      <td>2022-08-27</td>\n",
       "      <td>severe</td>\n",
       "      <td>severe</td>\n",
       "      <td>severe</td>\n",
       "      <td>severe</td>\n",
       "      <td>severe</td>\n",
       "    </tr>\n",
       "    <tr>\n",
       "      <th>14</th>\n",
       "      <td>0</td>\n",
       "      <td>2022-08-29</td>\n",
       "      <td>severe</td>\n",
       "      <td>severe</td>\n",
       "      <td>severe</td>\n",
       "      <td>severe</td>\n",
       "      <td>severe</td>\n",
       "    </tr>\n",
       "  </tbody>\n",
       "</table>\n",
       "</div>"
      ],
      "text/plain": [
       "    id        date  mobility   motoric     neuro diagnosis  \\\n",
       "0    0  2022-08-03      good  med-good   med-bad      good   \n",
       "1    0  2022-08-04      good      good      good      good   \n",
       "2    0  2022-08-09  med-good  med-good       bad  med-good   \n",
       "3    0  2022-08-11  med-good       med   med-bad  med-good   \n",
       "4    0  2022-08-12      good  med-good  med-good  med-good   \n",
       "5    0  2022-08-13       med   med-bad       med  med-good   \n",
       "6    0  2022-08-14  med-good       med       bad       med   \n",
       "7    0  2022-08-15       med       med   med-bad       med   \n",
       "8    0  2022-08-16      good   med-bad   med-bad       med   \n",
       "9    0  2022-08-22   med-bad       bad       med       med   \n",
       "10   0  2022-08-24      good       med       med       med   \n",
       "11   0  2022-08-25       med   med-bad       bad   med-bad   \n",
       "12   0  2022-08-26   med-bad       bad       bad   med-bad   \n",
       "13   0  2022-08-27    severe    severe    severe    severe   \n",
       "14   0  2022-08-29    severe    severe    severe    severe   \n",
       "\n",
       "   Predicted state for neuro  \n",
       "0                   med-good  \n",
       "1                       good  \n",
       "2                   med-good  \n",
       "3                        med  \n",
       "4                        med  \n",
       "5                        bad  \n",
       "6                        bad  \n",
       "7                        bad  \n",
       "8                        bad  \n",
       "9                        bad  \n",
       "10                       bad  \n",
       "11                       bad  \n",
       "12                       bad  \n",
       "13                    severe  \n",
       "14                    severe  "
      ]
     },
     "execution_count": 10,
     "metadata": {},
     "output_type": "execute_result"
    }
   ],
   "source": [
    "\"\"\"Similarily, let us try to predict the optimal state sequence for the hidden state neuro from the layers motoric and mobility\"\"\"\n",
    "\n",
    "c.optimal_state_sequence(path_to_observation=path_to_observation,\n",
    "                         csv_delimiter=',',\n",
    "                         hidden_marker='neuro',\n",
    "                         layers=['mobility', 'motoric'])"
   ]
  },
  {
   "cell_type": "code",
   "execution_count": null,
   "metadata": {
    "pycharm": {
     "name": "#%%\n"
    }
   },
   "outputs": [],
   "source": []
  }
 ],
 "metadata": {
  "kernelspec": {
   "display_name": "Python 3 (ipykernel)",
   "language": "python",
   "name": "python3"
  },
  "language_info": {
   "codemirror_mode": {
    "name": "ipython",
    "version": 3
   },
   "file_extension": ".py",
   "mimetype": "text/x-python",
   "name": "python",
   "nbconvert_exporter": "python",
   "pygments_lexer": "ipython3",
   "version": "3.10.13"
  }
 },
 "nbformat": 4,
 "nbformat_minor": 1
}
