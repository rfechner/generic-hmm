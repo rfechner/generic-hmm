{
 "cells": [
  {
   "cell_type": "code",
   "execution_count": 1,
   "outputs": [],
   "source": [
    "from source.pyth.Model.controller import Controller\n",
    "import os\n",
    "import warnings\n",
    "\n",
    "\n",
    "warnings.filterwarnings('ignore')\n",
    "\n",
    "path_to_data = os.path.join(os.curdir, 'source/generated_data/thesis_simple_test1/train.csv')\n",
    "path_to_config = os.path.join(os.curdir, 'source/generated_data/thesis_simple_test1/train.ini')\n",
    "path_to_observation = os.path.join(os.curdir, 'source/generated_data/thesis_simple_test1/single1.csv')\n",
    "\n"
   ],
   "metadata": {
    "collapsed": false,
    "pycharm": {
     "name": "#%%\n"
    }
   }
  },
  {
   "cell_type": "code",
   "execution_count": 2,
   "outputs": [
    {
     "name": "stdout",
     "output_type": "stream",
     "text": [
      "Extracting counts. This may take some time.\n"
     ]
    },
    {
     "name": "stderr",
     "output_type": "stream",
     "text": [
      "100%|██████████| 270/270 [00:00<00:00, 509.35it/s]\n"
     ]
    },
    {
     "name": "stdout",
     "output_type": "stream",
     "text": [
      "Calculating initial state probabilities.\n"
     ]
    },
    {
     "name": "stderr",
     "output_type": "stream",
     "text": [
      "100%|██████████| 6/6 [00:00<00:00, 6000.43it/s]\n"
     ]
    },
    {
     "name": "stdout",
     "output_type": "stream",
     "text": [
      "Calculating state transition probabilities.\n"
     ]
    },
    {
     "name": "stderr",
     "output_type": "stream",
     "text": [
      "100%|██████████| 6/6 [00:00<00:00, 857.20it/s]\n"
     ]
    },
    {
     "name": "stdout",
     "output_type": "stream",
     "text": [
      "Calculating observation probabilities.\n"
     ]
    },
    {
     "name": "stderr",
     "output_type": "stream",
     "text": [
      "100%|██████████| 6/6 [00:00<00:00, 666.66it/s]\n"
     ]
    },
    {
     "name": "stdout",
     "output_type": "stream",
     "text": [
      "Extraction of probabilities successful. Elapsed time: 0.0 hours, 0.0 minutes and 0.5770938396453857 seconds\n"
     ]
    },
    {
     "name": "stderr",
     "output_type": "stream",
     "text": [
      "100%|██████████| 30/30 [00:00<00:00, 789.12it/s]\n"
     ]
    },
    {
     "name": "stdout",
     "output_type": "stream",
     "text": [
      "The multiclass F1-Score was calculated. The resulting score is an average over all samples. F1-Score : 0.8022036474836346\n",
      "Extracting counts. This may take some time.\n"
     ]
    },
    {
     "name": "stderr",
     "output_type": "stream",
     "text": [
      "100%|██████████| 270/270 [00:00<00:00, 508.47it/s]\n"
     ]
    },
    {
     "name": "stdout",
     "output_type": "stream",
     "text": [
      "Calculating initial state probabilities.\n"
     ]
    },
    {
     "name": "stderr",
     "output_type": "stream",
     "text": [
      "100%|██████████| 6/6 [00:00<?, ?it/s]\n"
     ]
    },
    {
     "name": "stdout",
     "output_type": "stream",
     "text": [
      "Calculating state transition probabilities.\n"
     ]
    },
    {
     "name": "stderr",
     "output_type": "stream",
     "text": [
      "100%|██████████| 6/6 [00:00<00:00, 999.87it/s]\n"
     ]
    },
    {
     "name": "stdout",
     "output_type": "stream",
     "text": [
      "Calculating observation probabilities.\n"
     ]
    },
    {
     "name": "stderr",
     "output_type": "stream",
     "text": [
      "100%|██████████| 6/6 [00:00<00:00, 750.03it/s]\n"
     ]
    },
    {
     "name": "stdout",
     "output_type": "stream",
     "text": [
      "Extraction of probabilities successful. Elapsed time: 0.0 hours, 0.0 minutes and 0.5750000476837158 seconds\n"
     ]
    },
    {
     "name": "stderr",
     "output_type": "stream",
     "text": [
      "100%|██████████| 30/30 [00:00<00:00, 769.20it/s]\n"
     ]
    },
    {
     "name": "stdout",
     "output_type": "stream",
     "text": [
      "The multiclass F1-Score was calculated. The resulting score is an average over all samples. F1-Score : 0.8019132338760895\n",
      "Extracting counts. This may take some time.\n"
     ]
    },
    {
     "name": "stderr",
     "output_type": "stream",
     "text": [
      "100%|██████████| 270/270 [00:00<00:00, 514.29it/s]\n"
     ]
    },
    {
     "name": "stdout",
     "output_type": "stream",
     "text": [
      "Calculating initial state probabilities.\n"
     ]
    },
    {
     "name": "stderr",
     "output_type": "stream",
     "text": [
      "100%|██████████| 6/6 [00:00<?, ?it/s]\n"
     ]
    },
    {
     "name": "stdout",
     "output_type": "stream",
     "text": [
      "Calculating state transition probabilities.\n"
     ]
    },
    {
     "name": "stderr",
     "output_type": "stream",
     "text": [
      "100%|██████████| 6/6 [00:00<00:00, 750.05it/s]\n"
     ]
    },
    {
     "name": "stdout",
     "output_type": "stream",
     "text": [
      "Calculating observation probabilities.\n"
     ]
    },
    {
     "name": "stderr",
     "output_type": "stream",
     "text": [
      "100%|██████████| 6/6 [00:00<00:00, 750.05it/s]\n"
     ]
    },
    {
     "name": "stdout",
     "output_type": "stream",
     "text": [
      "Extraction of probabilities successful. Elapsed time: 0.0 hours, 0.0 minutes and 0.5699985027313232 seconds\n"
     ]
    },
    {
     "name": "stderr",
     "output_type": "stream",
     "text": [
      "100%|██████████| 30/30 [00:00<00:00, 769.25it/s]\n"
     ]
    },
    {
     "name": "stdout",
     "output_type": "stream",
     "text": [
      "The multiclass F1-Score was calculated. The resulting score is an average over all samples. F1-Score : 0.7981395560682979\n",
      "Extracting counts. This may take some time.\n"
     ]
    },
    {
     "name": "stderr",
     "output_type": "stream",
     "text": [
      "100%|██████████| 270/270 [00:00<00:00, 510.10it/s]\n"
     ]
    },
    {
     "name": "stdout",
     "output_type": "stream",
     "text": [
      "Calculating initial state probabilities.\n"
     ]
    },
    {
     "name": "stderr",
     "output_type": "stream",
     "text": [
      "100%|██████████| 6/6 [00:00<?, ?it/s]\n"
     ]
    },
    {
     "name": "stdout",
     "output_type": "stream",
     "text": [
      "Calculating state transition probabilities.\n"
     ]
    },
    {
     "name": "stderr",
     "output_type": "stream",
     "text": [
      "100%|██████████| 6/6 [00:00<00:00, 857.32it/s]\n"
     ]
    },
    {
     "name": "stdout",
     "output_type": "stream",
     "text": [
      "Calculating observation probabilities.\n"
     ]
    },
    {
     "name": "stderr",
     "output_type": "stream",
     "text": [
      "100%|██████████| 6/6 [00:00<00:00, 500.14it/s]\n"
     ]
    },
    {
     "name": "stdout",
     "output_type": "stream",
     "text": [
      "Extraction of probabilities successful. Elapsed time: 0.0 hours, 0.0 minutes and 0.5813031196594238 seconds\n"
     ]
    },
    {
     "name": "stderr",
     "output_type": "stream",
     "text": [
      "100%|██████████| 30/30 [00:00<00:00, 697.68it/s]\n"
     ]
    },
    {
     "name": "stdout",
     "output_type": "stream",
     "text": [
      "The multiclass F1-Score was calculated. The resulting score is an average over all samples. F1-Score : 0.8247608790183693\n",
      "Extracting counts. This may take some time.\n"
     ]
    },
    {
     "name": "stderr",
     "output_type": "stream",
     "text": [
      "100%|██████████| 270/270 [00:00<00:00, 506.57it/s]\n"
     ]
    },
    {
     "name": "stdout",
     "output_type": "stream",
     "text": [
      "Calculating initial state probabilities.\n"
     ]
    },
    {
     "name": "stderr",
     "output_type": "stream",
     "text": [
      "100%|██████████| 6/6 [00:00<?, ?it/s]\n"
     ]
    },
    {
     "name": "stdout",
     "output_type": "stream",
     "text": [
      "Calculating state transition probabilities.\n"
     ]
    },
    {
     "name": "stderr",
     "output_type": "stream",
     "text": [
      "100%|██████████| 6/6 [00:00<00:00, 749.92it/s]\n"
     ]
    },
    {
     "name": "stdout",
     "output_type": "stream",
     "text": [
      "Calculating observation probabilities.\n"
     ]
    },
    {
     "name": "stderr",
     "output_type": "stream",
     "text": [
      "100%|██████████| 6/6 [00:00<00:00, 599.90it/s]\n"
     ]
    },
    {
     "name": "stdout",
     "output_type": "stream",
     "text": [
      "Extraction of probabilities successful. Elapsed time: 0.0 hours, 0.0 minutes and 0.5790121555328369 seconds\n"
     ]
    },
    {
     "name": "stderr",
     "output_type": "stream",
     "text": [
      "100%|██████████| 30/30 [00:00<00:00, 740.62it/s]\n"
     ]
    },
    {
     "name": "stdout",
     "output_type": "stream",
     "text": [
      "The multiclass F1-Score was calculated. The resulting score is an average over all samples. F1-Score : 0.7872372763473088\n",
      "Extracting counts. This may take some time.\n"
     ]
    },
    {
     "name": "stderr",
     "output_type": "stream",
     "text": [
      "100%|██████████| 270/270 [00:00<00:00, 496.98it/s]\n"
     ]
    },
    {
     "name": "stdout",
     "output_type": "stream",
     "text": [
      "Calculating initial state probabilities.\n"
     ]
    },
    {
     "name": "stderr",
     "output_type": "stream",
     "text": [
      "100%|██████████| 6/6 [00:00<00:00, 6003.30it/s]\n"
     ]
    },
    {
     "name": "stdout",
     "output_type": "stream",
     "text": [
      "Calculating state transition probabilities.\n"
     ]
    },
    {
     "name": "stderr",
     "output_type": "stream",
     "text": [
      "100%|██████████| 6/6 [00:00<00:00, 857.06it/s]\n"
     ]
    },
    {
     "name": "stdout",
     "output_type": "stream",
     "text": [
      "Calculating observation probabilities.\n"
     ]
    },
    {
     "name": "stderr",
     "output_type": "stream",
     "text": [
      "100%|██████████| 6/6 [00:00<00:00, 750.19it/s]\n"
     ]
    },
    {
     "name": "stdout",
     "output_type": "stream",
     "text": [
      "Extraction of probabilities successful. Elapsed time: 0.0 hours, 0.0 minutes and 0.5892846584320068 seconds\n"
     ]
    },
    {
     "name": "stderr",
     "output_type": "stream",
     "text": [
      "100%|██████████| 30/30 [00:00<00:00, 769.22it/s]\n"
     ]
    },
    {
     "name": "stdout",
     "output_type": "stream",
     "text": [
      "The multiclass F1-Score was calculated. The resulting score is an average over all samples. F1-Score : 0.8207859404207422\n",
      "Extracting counts. This may take some time.\n"
     ]
    },
    {
     "name": "stderr",
     "output_type": "stream",
     "text": [
      "100%|██████████| 270/270 [00:00<00:00, 511.36it/s]\n"
     ]
    },
    {
     "name": "stdout",
     "output_type": "stream",
     "text": [
      "Calculating initial state probabilities.\n"
     ]
    },
    {
     "name": "stderr",
     "output_type": "stream",
     "text": [
      "100%|██████████| 6/6 [00:00<00:00, 6003.30it/s]\n"
     ]
    },
    {
     "name": "stdout",
     "output_type": "stream",
     "text": [
      "Calculating state transition probabilities.\n"
     ]
    },
    {
     "name": "stderr",
     "output_type": "stream",
     "text": [
      "100%|██████████| 6/6 [00:00<00:00, 857.23it/s]\n"
     ]
    },
    {
     "name": "stdout",
     "output_type": "stream",
     "text": [
      "Calculating observation probabilities.\n"
     ]
    },
    {
     "name": "stderr",
     "output_type": "stream",
     "text": [
      "100%|██████████| 6/6 [00:00<00:00, 749.96it/s]\n"
     ]
    },
    {
     "name": "stdout",
     "output_type": "stream",
     "text": [
      "Extraction of probabilities successful. Elapsed time: 0.0 hours, 0.0 minutes and 0.5710010528564453 seconds\n"
     ]
    },
    {
     "name": "stderr",
     "output_type": "stream",
     "text": [
      "100%|██████████| 30/30 [00:00<00:00, 769.21it/s]\n"
     ]
    },
    {
     "name": "stdout",
     "output_type": "stream",
     "text": [
      "The multiclass F1-Score was calculated. The resulting score is an average over all samples. F1-Score : 0.7845193183093203\n",
      "Extracting counts. This may take some time.\n"
     ]
    },
    {
     "name": "stderr",
     "output_type": "stream",
     "text": [
      "100%|██████████| 270/270 [00:00<00:00, 472.02it/s]\n"
     ]
    },
    {
     "name": "stdout",
     "output_type": "stream",
     "text": [
      "Calculating initial state probabilities.\n"
     ]
    },
    {
     "name": "stderr",
     "output_type": "stream",
     "text": [
      "100%|██████████| 6/6 [00:00<?, ?it/s]\n"
     ]
    },
    {
     "name": "stdout",
     "output_type": "stream",
     "text": [
      "Calculating state transition probabilities.\n"
     ]
    },
    {
     "name": "stderr",
     "output_type": "stream",
     "text": [
      "100%|██████████| 6/6 [00:00<00:00, 857.03it/s]\n"
     ]
    },
    {
     "name": "stdout",
     "output_type": "stream",
     "text": [
      "Calculating observation probabilities.\n"
     ]
    },
    {
     "name": "stderr",
     "output_type": "stream",
     "text": [
      "100%|██████████| 6/6 [00:00<00:00, 666.93it/s]\n"
     ]
    },
    {
     "name": "stdout",
     "output_type": "stream",
     "text": [
      "Extraction of probabilities successful. Elapsed time: 0.0 hours, 0.0 minutes and 0.6210100650787354 seconds\n"
     ]
    },
    {
     "name": "stderr",
     "output_type": "stream",
     "text": [
      "100%|██████████| 30/30 [00:00<00:00, 789.48it/s]\n"
     ]
    },
    {
     "name": "stdout",
     "output_type": "stream",
     "text": [
      "The multiclass F1-Score was calculated. The resulting score is an average over all samples. F1-Score : 0.768625166791343\n",
      "Extracting counts. This may take some time.\n"
     ]
    },
    {
     "name": "stderr",
     "output_type": "stream",
     "text": [
      "100%|██████████| 270/270 [00:00<00:00, 507.52it/s]\n"
     ]
    },
    {
     "name": "stdout",
     "output_type": "stream",
     "text": [
      "Calculating initial state probabilities.\n"
     ]
    },
    {
     "name": "stderr",
     "output_type": "stream",
     "text": [
      "100%|██████████| 6/6 [00:00<?, ?it/s]\n"
     ]
    },
    {
     "name": "stdout",
     "output_type": "stream",
     "text": [
      "Calculating state transition probabilities.\n"
     ]
    },
    {
     "name": "stderr",
     "output_type": "stream",
     "text": [
      "100%|██████████| 6/6 [00:00<00:00, 1199.86it/s]\n"
     ]
    },
    {
     "name": "stdout",
     "output_type": "stream",
     "text": [
      "Calculating observation probabilities.\n"
     ]
    },
    {
     "name": "stderr",
     "output_type": "stream",
     "text": [
      "100%|██████████| 6/6 [00:00<00:00, 666.64it/s]\n"
     ]
    },
    {
     "name": "stdout",
     "output_type": "stream",
     "text": [
      "Extraction of probabilities successful. Elapsed time: 0.0 hours, 0.0 minutes and 0.5760014057159424 seconds\n"
     ]
    },
    {
     "name": "stderr",
     "output_type": "stream",
     "text": [
      "100%|██████████| 30/30 [00:00<00:00, 833.28it/s]\n"
     ]
    },
    {
     "name": "stdout",
     "output_type": "stream",
     "text": [
      "The multiclass F1-Score was calculated. The resulting score is an average over all samples. F1-Score : 0.8450482629602654\n",
      "Extracting counts. This may take some time.\n"
     ]
    },
    {
     "name": "stderr",
     "output_type": "stream",
     "text": [
      "100%|██████████| 270/270 [00:00<00:00, 503.73it/s]\n"
     ]
    },
    {
     "name": "stdout",
     "output_type": "stream",
     "text": [
      "Calculating initial state probabilities.\n"
     ]
    },
    {
     "name": "stderr",
     "output_type": "stream",
     "text": [
      "100%|██████████| 6/6 [00:00<?, ?it/s]\n"
     ]
    },
    {
     "name": "stdout",
     "output_type": "stream",
     "text": [
      "Calculating state transition probabilities.\n"
     ]
    },
    {
     "name": "stderr",
     "output_type": "stream",
     "text": [
      "100%|██████████| 6/6 [00:00<00:00, 750.32it/s]\n"
     ]
    },
    {
     "name": "stdout",
     "output_type": "stream",
     "text": [
      "Calculating observation probabilities.\n"
     ]
    },
    {
     "name": "stderr",
     "output_type": "stream",
     "text": [
      "100%|██████████| 6/6 [00:00<00:00, 666.68it/s]\n"
     ]
    },
    {
     "name": "stdout",
     "output_type": "stream",
     "text": [
      "Extraction of probabilities successful. Elapsed time: 0.0 hours, 0.0 minutes and 0.5800025463104248 seconds\n"
     ]
    },
    {
     "name": "stderr",
     "output_type": "stream",
     "text": [
      "100%|██████████| 30/30 [00:00<00:00, 810.75it/s]"
     ]
    },
    {
     "name": "stdout",
     "output_type": "stream",
     "text": [
      "The multiclass F1-Score was calculated. The resulting score is an average over all samples. F1-Score : 0.772418656651508\n",
      "The mean score is 0.800565193792688 with a standart deviation of 0.022871237532286183.\n"
     ]
    },
    {
     "name": "stderr",
     "output_type": "stream",
     "text": [
      "\n"
     ]
    }
   ],
   "source": [
    "c = Controller()\n",
    "\n",
    "# 10-fold cross validation\n",
    "f1_scores = c.kfold_cross_validation(path_to_data=path_to_data,\n",
    "                         path_to_config=path_to_config,\n",
    "                         csv_delimiter=',',\n",
    "                         hidden_marker='diagnosis',\n",
    "                         layers=['mobility', 'motoric', 'neuro'],\n",
    "                         k = 10)\n",
    "\n"
   ],
   "metadata": {
    "collapsed": false,
    "pycharm": {
     "name": "#%%\n"
    }
   }
  },
  {
   "cell_type": "code",
   "execution_count": 3,
   "outputs": [
    {
     "name": "stdout",
     "output_type": "stream",
     "text": [
      "Extracting counts. This may take some time.\n"
     ]
    },
    {
     "name": "stderr",
     "output_type": "stream",
     "text": [
      "100%|██████████| 300/300 [00:00<00:00, 505.05it/s]\n"
     ]
    },
    {
     "name": "stdout",
     "output_type": "stream",
     "text": [
      "Calculating initial state probabilities.\n"
     ]
    },
    {
     "name": "stderr",
     "output_type": "stream",
     "text": [
      "100%|██████████| 6/6 [00:00<00:00, 6001.87it/s]\n"
     ]
    },
    {
     "name": "stdout",
     "output_type": "stream",
     "text": [
      "Calculating state transition probabilities.\n"
     ]
    },
    {
     "name": "stderr",
     "output_type": "stream",
     "text": [
      "100%|██████████| 6/6 [00:00<00:00, 1000.55it/s]\n"
     ]
    },
    {
     "name": "stdout",
     "output_type": "stream",
     "text": [
      "Calculating observation probabilities.\n"
     ]
    },
    {
     "name": "stderr",
     "output_type": "stream",
     "text": [
      "100%|██████████| 6/6 [00:00<00:00, 750.08it/s]"
     ]
    },
    {
     "name": "stdout",
     "output_type": "stream",
     "text": [
      "Extraction of probabilities successful. Elapsed time: 0.0 hours, 0.0 minutes and 0.6426398754119873 seconds\n"
     ]
    },
    {
     "name": "stderr",
     "output_type": "stream",
     "text": [
      "\n"
     ]
    },
    {
     "data": {
      "text/plain": "    id        date  mobility   motoric     neuro diagnosis  \\\n0    0  2022-08-03      good  med-good   med-bad      good   \n1    0  2022-08-04      good      good      good      good   \n2    0  2022-08-09  med-good  med-good       bad  med-good   \n3    0  2022-08-11  med-good       med   med-bad  med-good   \n4    0  2022-08-12      good  med-good  med-good  med-good   \n5    0  2022-08-13       med   med-bad       med  med-good   \n6    0  2022-08-14  med-good       med       bad       med   \n7    0  2022-08-15       med       med   med-bad       med   \n8    0  2022-08-16      good   med-bad   med-bad       med   \n9    0  2022-08-22   med-bad       bad       med       med   \n10   0  2022-08-24      good       med       med       med   \n11   0  2022-08-25       med   med-bad       bad   med-bad   \n12   0  2022-08-26   med-bad       bad       bad   med-bad   \n13   0  2022-08-27    severe    severe    severe    severe   \n14   0  2022-08-29    severe    severe    severe    severe   \n\n   Predicted state for diagnosis  \n0                           good  \n1                           good  \n2                       med-good  \n3                       med-good  \n4                       med-good  \n5                            med  \n6                            med  \n7                            med  \n8                            med  \n9                            med  \n10                           med  \n11                       med-bad  \n12                           bad  \n13                        severe  \n14                        severe  ",
      "text/html": "<div>\n<style scoped>\n    .dataframe tbody tr th:only-of-type {\n        vertical-align: middle;\n    }\n\n    .dataframe tbody tr th {\n        vertical-align: top;\n    }\n\n    .dataframe thead th {\n        text-align: right;\n    }\n</style>\n<table border=\"1\" class=\"dataframe\">\n  <thead>\n    <tr style=\"text-align: right;\">\n      <th></th>\n      <th>id</th>\n      <th>date</th>\n      <th>mobility</th>\n      <th>motoric</th>\n      <th>neuro</th>\n      <th>diagnosis</th>\n      <th>Predicted state for diagnosis</th>\n    </tr>\n  </thead>\n  <tbody>\n    <tr>\n      <th>0</th>\n      <td>0</td>\n      <td>2022-08-03</td>\n      <td>good</td>\n      <td>med-good</td>\n      <td>med-bad</td>\n      <td>good</td>\n      <td>good</td>\n    </tr>\n    <tr>\n      <th>1</th>\n      <td>0</td>\n      <td>2022-08-04</td>\n      <td>good</td>\n      <td>good</td>\n      <td>good</td>\n      <td>good</td>\n      <td>good</td>\n    </tr>\n    <tr>\n      <th>2</th>\n      <td>0</td>\n      <td>2022-08-09</td>\n      <td>med-good</td>\n      <td>med-good</td>\n      <td>bad</td>\n      <td>med-good</td>\n      <td>med-good</td>\n    </tr>\n    <tr>\n      <th>3</th>\n      <td>0</td>\n      <td>2022-08-11</td>\n      <td>med-good</td>\n      <td>med</td>\n      <td>med-bad</td>\n      <td>med-good</td>\n      <td>med-good</td>\n    </tr>\n    <tr>\n      <th>4</th>\n      <td>0</td>\n      <td>2022-08-12</td>\n      <td>good</td>\n      <td>med-good</td>\n      <td>med-good</td>\n      <td>med-good</td>\n      <td>med-good</td>\n    </tr>\n    <tr>\n      <th>5</th>\n      <td>0</td>\n      <td>2022-08-13</td>\n      <td>med</td>\n      <td>med-bad</td>\n      <td>med</td>\n      <td>med-good</td>\n      <td>med</td>\n    </tr>\n    <tr>\n      <th>6</th>\n      <td>0</td>\n      <td>2022-08-14</td>\n      <td>med-good</td>\n      <td>med</td>\n      <td>bad</td>\n      <td>med</td>\n      <td>med</td>\n    </tr>\n    <tr>\n      <th>7</th>\n      <td>0</td>\n      <td>2022-08-15</td>\n      <td>med</td>\n      <td>med</td>\n      <td>med-bad</td>\n      <td>med</td>\n      <td>med</td>\n    </tr>\n    <tr>\n      <th>8</th>\n      <td>0</td>\n      <td>2022-08-16</td>\n      <td>good</td>\n      <td>med-bad</td>\n      <td>med-bad</td>\n      <td>med</td>\n      <td>med</td>\n    </tr>\n    <tr>\n      <th>9</th>\n      <td>0</td>\n      <td>2022-08-22</td>\n      <td>med-bad</td>\n      <td>bad</td>\n      <td>med</td>\n      <td>med</td>\n      <td>med</td>\n    </tr>\n    <tr>\n      <th>10</th>\n      <td>0</td>\n      <td>2022-08-24</td>\n      <td>good</td>\n      <td>med</td>\n      <td>med</td>\n      <td>med</td>\n      <td>med</td>\n    </tr>\n    <tr>\n      <th>11</th>\n      <td>0</td>\n      <td>2022-08-25</td>\n      <td>med</td>\n      <td>med-bad</td>\n      <td>bad</td>\n      <td>med-bad</td>\n      <td>med-bad</td>\n    </tr>\n    <tr>\n      <th>12</th>\n      <td>0</td>\n      <td>2022-08-26</td>\n      <td>med-bad</td>\n      <td>bad</td>\n      <td>bad</td>\n      <td>med-bad</td>\n      <td>bad</td>\n    </tr>\n    <tr>\n      <th>13</th>\n      <td>0</td>\n      <td>2022-08-27</td>\n      <td>severe</td>\n      <td>severe</td>\n      <td>severe</td>\n      <td>severe</td>\n      <td>severe</td>\n    </tr>\n    <tr>\n      <th>14</th>\n      <td>0</td>\n      <td>2022-08-29</td>\n      <td>severe</td>\n      <td>severe</td>\n      <td>severe</td>\n      <td>severe</td>\n      <td>severe</td>\n    </tr>\n  </tbody>\n</table>\n</div>"
     },
     "execution_count": 3,
     "metadata": {},
     "output_type": "execute_result"
    }
   ],
   "source": [
    "# construct our model\n",
    "c.construct(path_to_data=path_to_data,\n",
    "            path_to_config=path_to_config,\n",
    "            csv_delimiter=',')\n",
    "\n",
    "\"\"\"\n",
    "We are trying to make a sequence to sequence prediction. Solely from the sequences for markers\n",
    "of the layers mobility, motoric and neuro, we will try to infer the sequence of hidden states for the marker 'diagnosis'.\n",
    "\"\"\"\n",
    "\n",
    "c.optimal_state_sequence(path_to_observation=path_to_observation,\n",
    "                         csv_delimiter=',',\n",
    "                         hidden_marker='diagnosis',\n",
    "                         layers=['mobility', 'motoric', 'neuro'])"
   ],
   "metadata": {
    "collapsed": false,
    "pycharm": {
     "name": "#%%\n"
    }
   }
  },
  {
   "cell_type": "code",
   "execution_count": 4,
   "outputs": [
    {
     "data": {
      "text/plain": "<Figure size 432x288 with 1 Axes>",
      "image/png": "[encoded data removed]"
     },
     "metadata": {
      "needs_background": "light"
     },
     "output_type": "display_data"
    },
    {
     "data": {
      "text/plain": "array([[0.        , 0.        , 0.        , 0.        , 0.        ,\n        0.        , 0.        , 0.        , 0.        , 0.        ,\n        0.        , 0.        , 0.88074786, 0.18666136, 0.07786666],\n       [1.        , 1.        , 0.34818218, 0.08330829, 0.01898931,\n        0.        , 0.        , 0.        , 0.        , 0.        ,\n        0.        , 0.        , 0.        , 0.        , 0.        ],\n       [0.        , 0.        , 0.        , 0.        , 0.        ,\n        0.41900105, 0.7044731 , 0.85946989, 0.94362527, 1.        ,\n        1.        , 0.08441659, 0.00211776, 0.        , 0.        ],\n       [0.        , 0.        , 0.        , 0.        , 0.        ,\n        0.        , 0.        , 0.        , 0.        , 0.        ,\n        0.        , 0.91558341, 0.11713438, 0.00857112, 0.00145809],\n       [0.        , 0.        , 0.65181782, 0.91669171, 0.98101069,\n        0.58099895, 0.2955269 , 0.14053011, 0.05637473, 0.        ,\n        0.        , 0.        , 0.        , 0.        , 0.        ],\n       [0.        , 0.        , 0.        , 0.        , 0.        ,\n        0.        , 0.        , 0.        , 0.        , 0.        ,\n        0.        , 0.        , 0.        , 0.80476752, 0.92067524]])"
     },
     "execution_count": 4,
     "metadata": {},
     "output_type": "execute_result"
    }
   ],
   "source": [
    "\"\"\" Now, let us try to plot the priors for the hiddens states. This time, we only use the layer motoric. \"\"\"\n",
    "\n",
    "c.plot_posterior_distribution(path_to_observation=path_to_observation,\n",
    "                              csv_delimiter=',',\n",
    "                              layers= ['motoric'],\n",
    "                              hidden_marker='diagnosis')"
   ],
   "metadata": {
    "collapsed": false,
    "pycharm": {
     "name": "#%%\n"
    }
   }
  },
  {
   "cell_type": "code",
   "execution_count": 5,
   "outputs": [
    {
     "data": {
      "text/plain": "<Figure size 432x288 with 1 Axes>",
      "image/png": "[encoded data removed]"
     },
     "metadata": {
      "needs_background": "light"
     },
     "output_type": "display_data"
    },
    {
     "data": {
      "text/plain": "array([[1.71401767e-03, 0.00000000e+00, 1.54694946e-02, 3.77320810e-02,\n        7.75951390e-02, 1.52559481e-01, 1.02559389e-01, 1.28549774e-01,\n        3.43766309e-01, 7.43910627e-01, 3.29753499e-01, 4.98850121e-01,\n        6.21867048e-01, 5.95807525e-02, 3.26113932e-02],\n       [2.96388497e-01, 4.56032542e-01, 1.34673867e-01, 4.48528267e-02,\n        6.81953795e-02, 0.00000000e+00, 1.03705514e-02, 7.07432746e-03,\n        0.00000000e+00, 0.00000000e+00, 1.45920492e-03, 0.00000000e+00,\n        0.00000000e+00, 0.00000000e+00, 0.00000000e+00],\n       [3.64028055e-02, 6.23450211e-02, 1.79432414e-01, 5.42435720e-01,\n        3.11658418e-01, 3.83463214e-01, 5.87355880e-01, 5.58057141e-01,\n        2.39056086e-01, 9.80446593e-02, 3.75530769e-01, 1.32720320e-01,\n        5.41011621e-03, 0.00000000e+00, 0.00000000e+00],\n       [3.86779655e-02, 3.90724869e-02, 1.05732228e-01, 1.82527936e-01,\n        2.33791247e-01, 3.77504591e-01, 2.42862331e-01, 2.63083952e-01,\n        3.92056077e-01, 1.33327055e-01, 2.73215061e-01, 3.25546728e-01,\n        2.90900900e-02, 4.14744794e-03, 1.98897746e-03],\n       [6.26816714e-01, 4.42549950e-01, 5.64691996e-01, 1.92451436e-01,\n        3.08759816e-01, 8.58661641e-02, 5.68518477e-02, 4.32348052e-02,\n        1.95082345e-02, 0.00000000e+00, 2.00414664e-02, 8.14866933e-03,\n        0.00000000e+00, 0.00000000e+00, 0.00000000e+00],\n       [0.00000000e+00, 0.00000000e+00, 0.00000000e+00, 0.00000000e+00,\n        0.00000000e+00, 6.06549827e-04, 0.00000000e+00, 0.00000000e+00,\n        5.61329316e-03, 2.47176585e-02, 0.00000000e+00, 3.47341622e-02,\n        3.43632746e-01, 9.36271800e-01, 9.65399629e-01]])"
     },
     "execution_count": 5,
     "metadata": {},
     "output_type": "execute_result"
    }
   ],
   "source": [
    "\"\"\"To continue our analysis, let us try to predict the posteriors for the hidden state neuro solely from the layer motoric\"\"\"\n",
    "c.plot_posterior_distribution(path_to_observation=path_to_observation,\n",
    "                              csv_delimiter=',',\n",
    "                              layers= ['motoric'],\n",
    "                              hidden_marker='neuro')"
   ],
   "metadata": {
    "collapsed": false,
    "pycharm": {
     "name": "#%%\n"
    }
   }
  },
  {
   "cell_type": "code",
   "execution_count": 6,
   "outputs": [
    {
     "data": {
      "text/plain": "    id        date  mobility   motoric     neuro diagnosis  \\\n0    0  2022-08-03      good  med-good   med-bad      good   \n1    0  2022-08-04      good      good      good      good   \n2    0  2022-08-09  med-good  med-good       bad  med-good   \n3    0  2022-08-11  med-good       med   med-bad  med-good   \n4    0  2022-08-12      good  med-good  med-good  med-good   \n5    0  2022-08-13       med   med-bad       med  med-good   \n6    0  2022-08-14  med-good       med       bad       med   \n7    0  2022-08-15       med       med   med-bad       med   \n8    0  2022-08-16      good   med-bad   med-bad       med   \n9    0  2022-08-22   med-bad       bad       med       med   \n10   0  2022-08-24      good       med       med       med   \n11   0  2022-08-25       med   med-bad       bad   med-bad   \n12   0  2022-08-26   med-bad       bad       bad   med-bad   \n13   0  2022-08-27    severe    severe    severe    severe   \n14   0  2022-08-29    severe    severe    severe    severe   \n\n   Predicted state for neuro  \n0                   med-good  \n1                       good  \n2                   med-good  \n3                        med  \n4                        med  \n5                        bad  \n6                        bad  \n7                        bad  \n8                        bad  \n9                        bad  \n10                       bad  \n11                       bad  \n12                       bad  \n13                    severe  \n14                    severe  ",
      "text/html": "<div>\n<style scoped>\n    .dataframe tbody tr th:only-of-type {\n        vertical-align: middle;\n    }\n\n    .dataframe tbody tr th {\n        vertical-align: top;\n    }\n\n    .dataframe thead th {\n        text-align: right;\n    }\n</style>\n<table border=\"1\" class=\"dataframe\">\n  <thead>\n    <tr style=\"text-align: right;\">\n      <th></th>\n      <th>id</th>\n      <th>date</th>\n      <th>mobility</th>\n      <th>motoric</th>\n      <th>neuro</th>\n      <th>diagnosis</th>\n      <th>Predicted state for neuro</th>\n    </tr>\n  </thead>\n  <tbody>\n    <tr>\n      <th>0</th>\n      <td>0</td>\n      <td>2022-08-03</td>\n      <td>good</td>\n      <td>med-good</td>\n      <td>med-bad</td>\n      <td>good</td>\n      <td>med-good</td>\n    </tr>\n    <tr>\n      <th>1</th>\n      <td>0</td>\n      <td>2022-08-04</td>\n      <td>good</td>\n      <td>good</td>\n      <td>good</td>\n      <td>good</td>\n      <td>good</td>\n    </tr>\n    <tr>\n      <th>2</th>\n      <td>0</td>\n      <td>2022-08-09</td>\n      <td>med-good</td>\n      <td>med-good</td>\n      <td>bad</td>\n      <td>med-good</td>\n      <td>med-good</td>\n    </tr>\n    <tr>\n      <th>3</th>\n      <td>0</td>\n      <td>2022-08-11</td>\n      <td>med-good</td>\n      <td>med</td>\n      <td>med-bad</td>\n      <td>med-good</td>\n      <td>med</td>\n    </tr>\n    <tr>\n      <th>4</th>\n      <td>0</td>\n      <td>2022-08-12</td>\n      <td>good</td>\n      <td>med-good</td>\n      <td>med-good</td>\n      <td>med-good</td>\n      <td>med</td>\n    </tr>\n    <tr>\n      <th>5</th>\n      <td>0</td>\n      <td>2022-08-13</td>\n      <td>med</td>\n      <td>med-bad</td>\n      <td>med</td>\n      <td>med-good</td>\n      <td>bad</td>\n    </tr>\n    <tr>\n      <th>6</th>\n      <td>0</td>\n      <td>2022-08-14</td>\n      <td>med-good</td>\n      <td>med</td>\n      <td>bad</td>\n      <td>med</td>\n      <td>bad</td>\n    </tr>\n    <tr>\n      <th>7</th>\n      <td>0</td>\n      <td>2022-08-15</td>\n      <td>med</td>\n      <td>med</td>\n      <td>med-bad</td>\n      <td>med</td>\n      <td>bad</td>\n    </tr>\n    <tr>\n      <th>8</th>\n      <td>0</td>\n      <td>2022-08-16</td>\n      <td>good</td>\n      <td>med-bad</td>\n      <td>med-bad</td>\n      <td>med</td>\n      <td>bad</td>\n    </tr>\n    <tr>\n      <th>9</th>\n      <td>0</td>\n      <td>2022-08-22</td>\n      <td>med-bad</td>\n      <td>bad</td>\n      <td>med</td>\n      <td>med</td>\n      <td>bad</td>\n    </tr>\n    <tr>\n      <th>10</th>\n      <td>0</td>\n      <td>2022-08-24</td>\n      <td>good</td>\n      <td>med</td>\n      <td>med</td>\n      <td>med</td>\n      <td>bad</td>\n    </tr>\n    <tr>\n      <th>11</th>\n      <td>0</td>\n      <td>2022-08-25</td>\n      <td>med</td>\n      <td>med-bad</td>\n      <td>bad</td>\n      <td>med-bad</td>\n      <td>bad</td>\n    </tr>\n    <tr>\n      <th>12</th>\n      <td>0</td>\n      <td>2022-08-26</td>\n      <td>med-bad</td>\n      <td>bad</td>\n      <td>bad</td>\n      <td>med-bad</td>\n      <td>bad</td>\n    </tr>\n    <tr>\n      <th>13</th>\n      <td>0</td>\n      <td>2022-08-27</td>\n      <td>severe</td>\n      <td>severe</td>\n      <td>severe</td>\n      <td>severe</td>\n      <td>severe</td>\n    </tr>\n    <tr>\n      <th>14</th>\n      <td>0</td>\n      <td>2022-08-29</td>\n      <td>severe</td>\n      <td>severe</td>\n      <td>severe</td>\n      <td>severe</td>\n      <td>severe</td>\n    </tr>\n  </tbody>\n</table>\n</div>"
     },
     "execution_count": 6,
     "metadata": {},
     "output_type": "execute_result"
    }
   ],
   "source": [
    "\"\"\"Similarily, let us try to predict the optimal state sequence for the hidden state neuro from the layers motoric and mobility\"\"\"\n",
    "\n",
    "c.optimal_state_sequence(path_to_observation=path_to_observation,\n",
    "                         csv_delimiter=',',\n",
    "                         hidden_marker='neuro',\n",
    "                         layers=['mobility', 'motoric'])"
   ],
   "metadata": {
    "collapsed": false,
    "pycharm": {
     "name": "#%%\n"
    }
   }
  },
  {
   "cell_type": "code",
   "execution_count": 6,
   "outputs": [],
   "source": [],
   "metadata": {
    "collapsed": false,
    "pycharm": {
     "name": "#%%\n"
    }
   }
  }
 ],
 "metadata": {
  "kernelspec": {
   "display_name": "Python 3",
   "language": "python",
   "name": "python3"
  },
  "language_info": {
   "codemirror_mode": {
    "name": "ipython",
    "version": 2
   },
   "file_extension": ".py",
   "mimetype": "text/x-python",
   "name": "python",
   "nbconvert_exporter": "python",
   "pygments_lexer": "ipython2",
   "version": "2.7.6"
  }
 },
 "nbformat": 4,
 "nbformat_minor": 0
}