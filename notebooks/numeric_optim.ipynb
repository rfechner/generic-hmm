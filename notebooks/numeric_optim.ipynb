{
 "cells": [
  {
   "cell_type": "markdown",
   "metadata": {},
   "source": [
    "## Numeric Optimization : A Connection to Deep Learning\n",
    "\n",
    "...Does this even work? seems like gradient methods fail or produce degenerate solutions for these type of problems...\n",
    "\n",
    "\n",
    "\n",
    "Up until now, we've avoided using the usual forward and backward pass notation to define our variables, as i wanted to draw a link between other timeseries methods. It turns out the *smoothened* hidden state distributions are the $\\gamma_t(\\cdot)$ variable used in HMM literature. But let's unroll the helper variables one by one and start with the *forward* variable $\\alpha$, which is a **unnormalized likelihood** $\\ell(X_t|Y_{0:t})$.\n",
    "\n",
    "\\begin{align*}\n",
    "    \\alpha_t(j) &\\overset{\\text{Def.}}{=} (\\sum_{i=1}^N \\alpha_{t-1}(i)\\mathcal A[i, j]) \\mathcal B[j, Y_t]\n",
    "\\end{align*}\n",
    "\n",
    "We obtain the full data likelihood $P(Y|\\theta)$, by summing over $\\alpha_T(i)$. As all the computation is differentiable (only matrix multiplications), we can **back-propagate** through the computation graph and optimize via **gradient descent** using auto-diff and **Optimization constraints**.\n",
    "<p align=\"center\"><img src=\"numeric_optim.drawio.png\" alt=\"drawing\" width=\"500\"/></p>"
   ]
  },
  {
   "cell_type": "code",
   "execution_count": 1,
   "metadata": {},
   "outputs": [],
   "source": [
    "import numpy as np\n",
    "from numpy.typing import NDArray\n",
    "from scipy.optimize import minimize\n",
    "from functools import partial\n",
    "\n",
    "def likelihood(Bs : np.ndarray, y_i : np.ndarray, lengths : np.ndarray) -> np.ndarray:\n",
    "    \"\"\"\n",
    "    Bs : np.ndarray     of shape num_states * prod(num_obs_i).\n",
    "    offsets : List[int] contains num_obs - 1 indeces for the split.\n",
    "    returns: product of likelihoods for observation y_i\n",
    "    \n",
    "    \"\"\"\n",
    "    sections = np.insert(np.cumsum(lengths)[:-1], 0, 0)\n",
    "    indeces = y_i + sections\n",
    "    \n",
    "    arrs = Bs[:, indeces]\n",
    "\n",
    "    return np.prod(arrs, axis=1).squeeze()\n",
    "\n",
    "def neg_likelihood(params : np.ndarray, Y : NDArray[np.int64], num_states : int, lengths : NDArray[np.int64]) -> np.float32:\n",
    "    \"\"\"\n",
    "        Y : np.ndarray of shape (T, number of emission signals)\n",
    "    \"\"\"\n",
    "    pi = params[:num_states]\n",
    "    A = params[num_states: num_states + num_states**2].reshape(num_states, num_states)\n",
    "    Bs = params[num_states + num_states**2:].reshape(num_states, -1)\n",
    "\n",
    "    alpha_tm1 : np.ndarray = pi * likelihood(Bs, Y[0, :], lengths)\n",
    "\n",
    "    for y_i in Y[1:]:\n",
    "        alpha_tm1 = A.T @ alpha_tm1 * likelihood(Bs, np.array(y_i), lengths)\n",
    "\n",
    "    return -np.sum(alpha_tm1)"
   ]
  },
  {
   "cell_type": "code",
   "execution_count": 2,
   "metadata": {},
   "outputs": [],
   "source": [
    "num_states = 2\n",
    "lengths = np.array([2, 3])\n",
    "observations = np.array([[0, 1], [1, 0], [1, 1], [1, 0]]) # (D, not B), (C, B), (C, not B), (W, B)\n",
    "\n",
    "init_A = np.random.random(size=(num_states, num_states))\n",
    "init_A /= init_A.sum(axis=1)[:, None]\n",
    "\n",
    "Bs = [\n",
    "    np.random.random(size=(num_states, M)) for M in lengths\n",
    "]\n",
    "\n",
    "init_Bs = [\n",
    "    B / B.sum(axis=1)[:, None] for B in Bs\n",
    "]\n",
    "\n",
    "init_pi = np.ones(shape=(num_states,)) / num_states\n",
    "\n",
    "assert np.all([np.all([np.isclose(B.sum(axis=1), 1)]) for B in init_Bs]), 'Bs not stochastic'\n",
    "assert np.all(np.isclose(init_A.sum(axis=1), 1)), 'A not stochastic'\n",
    "assert np.isclose(init_pi.sum(), 1), 'pi not stochastic'"
   ]
  },
  {
   "cell_type": "code",
   "execution_count": 4,
   "metadata": {},
   "outputs": [],
   "source": [
    "# turn initial guesses into np arrays\n",
    "A = init_A.reshape(-1)\n",
    "Bs = np.concatenate(init_Bs, axis=1).reshape(-1)\n",
    "pi = np.array(init_pi).reshape(-1)\n",
    "\n",
    "params = np.concatenate([pi, A, Bs])"
   ]
  },
  {
   "cell_type": "code",
   "execution_count": null,
   "metadata": {},
   "outputs": [],
   "source": [
    "from scipy.optimize import NonlinearConstraint, Bounds, LinearConstraint\n",
    "\n",
    "cons = [\n",
    "    # TODO\n",
    "]\n",
    "\n",
    "func = partial(neg_likelihood, Y=observations, num_states=num_states, lengths=lengths)\n",
    "results = minimize(func, x0=params, bounds=Bounds(lb=0, ub=1), constraints=cons)"
   ]
  }
 ],
 "metadata": {
  "kernelspec": {
   "display_name": "generic-hmm",
   "language": "python",
   "name": "python3"
  },
  "language_info": {
   "codemirror_mode": {
    "name": "ipython",
    "version": 3
   },
   "file_extension": ".py",
   "mimetype": "text/x-python",
   "name": "python",
   "nbconvert_exporter": "python",
   "pygments_lexer": "ipython3",
   "version": "3.10.13"
  }
 },
 "nbformat": 4,
 "nbformat_minor": 2
}
